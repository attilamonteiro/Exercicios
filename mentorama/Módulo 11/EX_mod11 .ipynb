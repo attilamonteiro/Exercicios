{
 "cells": [
  {
   "cell_type": "markdown",
   "metadata": {
    "id": "-3wLEeJGZpvU"
   },
   "source": [
    "## EX 1.1"
   ]
  },
  {
   "cell_type": "code",
   "execution_count": null,
   "metadata": {
    "id": "PLa5fM_7-icR"
   },
   "outputs": [],
   "source": [
    "import numpy as np\n",
    "import pandas as pd\n",
    "import matplotlib.pyplot as plt\n",
    "from sklearn.model_selection import train_test_split\n",
    "from sklearn.datasets import make_friedman1,make_classification"
   ]
  },
  {
   "cell_type": "code",
   "execution_count": null,
   "metadata": {
    "id": "Q45_ygyAGCmz"
   },
   "outputs": [],
   "source": [
    "df=pd.read_csv(\"/content/dataframe_exercicio_modulo_9.csv\")"
   ]
  },
  {
   "cell_type": "code",
   "execution_count": null,
   "metadata": {
    "colab": {
     "base_uri": "https://localhost:8080/",
     "height": 191
    },
    "id": "2gNNR7C_GCqK",
    "outputId": "7ae548bb-9b18-4cd9-adbb-e775782aa556"
   },
   "outputs": [
    {
     "data": {
      "text/html": [
       "<div>\n",
       "<style scoped>\n",
       "    .dataframe tbody tr th:only-of-type {\n",
       "        vertical-align: middle;\n",
       "    }\n",
       "\n",
       "    .dataframe tbody tr th {\n",
       "        vertical-align: top;\n",
       "    }\n",
       "\n",
       "    .dataframe thead th {\n",
       "        text-align: right;\n",
       "    }\n",
       "</style>\n",
       "<table border=\"1\" class=\"dataframe\">\n",
       "  <thead>\n",
       "    <tr style=\"text-align: right;\">\n",
       "      <th></th>\n",
       "      <th>sex</th>\n",
       "      <th>age</th>\n",
       "      <th>famsize</th>\n",
       "      <th>Pstatus</th>\n",
       "      <th>traveltime</th>\n",
       "      <th>studytime</th>\n",
       "      <th>schoolsup</th>\n",
       "      <th>famsup</th>\n",
       "      <th>paid</th>\n",
       "      <th>activities</th>\n",
       "      <th>internet</th>\n",
       "      <th>romantic</th>\n",
       "      <th>famrel</th>\n",
       "      <th>freetime</th>\n",
       "      <th>goout</th>\n",
       "      <th>absences</th>\n",
       "      <th>G3</th>\n",
       "    </tr>\n",
       "  </thead>\n",
       "  <tbody>\n",
       "    <tr>\n",
       "      <th>0</th>\n",
       "      <td>F</td>\n",
       "      <td>18</td>\n",
       "      <td>GT3</td>\n",
       "      <td>A</td>\n",
       "      <td>2</td>\n",
       "      <td>2</td>\n",
       "      <td>yes</td>\n",
       "      <td>no</td>\n",
       "      <td>no</td>\n",
       "      <td>no</td>\n",
       "      <td>no</td>\n",
       "      <td>no</td>\n",
       "      <td>4</td>\n",
       "      <td>3</td>\n",
       "      <td>4</td>\n",
       "      <td>6</td>\n",
       "      <td>6</td>\n",
       "    </tr>\n",
       "    <tr>\n",
       "      <th>1</th>\n",
       "      <td>F</td>\n",
       "      <td>17</td>\n",
       "      <td>GT3</td>\n",
       "      <td>T</td>\n",
       "      <td>1</td>\n",
       "      <td>2</td>\n",
       "      <td>no</td>\n",
       "      <td>yes</td>\n",
       "      <td>no</td>\n",
       "      <td>no</td>\n",
       "      <td>yes</td>\n",
       "      <td>no</td>\n",
       "      <td>5</td>\n",
       "      <td>3</td>\n",
       "      <td>3</td>\n",
       "      <td>4</td>\n",
       "      <td>6</td>\n",
       "    </tr>\n",
       "    <tr>\n",
       "      <th>2</th>\n",
       "      <td>F</td>\n",
       "      <td>15</td>\n",
       "      <td>LE3</td>\n",
       "      <td>T</td>\n",
       "      <td>1</td>\n",
       "      <td>2</td>\n",
       "      <td>yes</td>\n",
       "      <td>no</td>\n",
       "      <td>yes</td>\n",
       "      <td>no</td>\n",
       "      <td>yes</td>\n",
       "      <td>no</td>\n",
       "      <td>4</td>\n",
       "      <td>3</td>\n",
       "      <td>2</td>\n",
       "      <td>10</td>\n",
       "      <td>10</td>\n",
       "    </tr>\n",
       "    <tr>\n",
       "      <th>3</th>\n",
       "      <td>F</td>\n",
       "      <td>15</td>\n",
       "      <td>GT3</td>\n",
       "      <td>T</td>\n",
       "      <td>1</td>\n",
       "      <td>3</td>\n",
       "      <td>no</td>\n",
       "      <td>yes</td>\n",
       "      <td>yes</td>\n",
       "      <td>yes</td>\n",
       "      <td>yes</td>\n",
       "      <td>yes</td>\n",
       "      <td>3</td>\n",
       "      <td>2</td>\n",
       "      <td>2</td>\n",
       "      <td>2</td>\n",
       "      <td>15</td>\n",
       "    </tr>\n",
       "    <tr>\n",
       "      <th>4</th>\n",
       "      <td>F</td>\n",
       "      <td>16</td>\n",
       "      <td>GT3</td>\n",
       "      <td>T</td>\n",
       "      <td>1</td>\n",
       "      <td>2</td>\n",
       "      <td>no</td>\n",
       "      <td>yes</td>\n",
       "      <td>yes</td>\n",
       "      <td>no</td>\n",
       "      <td>no</td>\n",
       "      <td>no</td>\n",
       "      <td>4</td>\n",
       "      <td>3</td>\n",
       "      <td>2</td>\n",
       "      <td>4</td>\n",
       "      <td>10</td>\n",
       "    </tr>\n",
       "  </tbody>\n",
       "</table>\n",
       "</div>"
      ],
      "text/plain": [
       "  sex  age famsize Pstatus  traveltime  ...  famrel freetime goout absences  G3\n",
       "0   F   18     GT3       A           2  ...       4        3     4        6   6\n",
       "1   F   17     GT3       T           1  ...       5        3     3        4   6\n",
       "2   F   15     LE3       T           1  ...       4        3     2       10  10\n",
       "3   F   15     GT3       T           1  ...       3        2     2        2  15\n",
       "4   F   16     GT3       T           1  ...       4        3     2        4  10\n",
       "\n",
       "[5 rows x 17 columns]"
      ]
     },
     "execution_count": 3,
     "metadata": {
      "tags": []
     },
     "output_type": "execute_result"
    }
   ],
   "source": [
    "df.head()"
   ]
  },
  {
   "cell_type": "code",
   "execution_count": null,
   "metadata": {
    "colab": {
     "base_uri": "https://localhost:8080/",
     "height": 191
    },
    "id": "qzX07YI-GCs9",
    "outputId": "c61ec2a5-014f-4880-9806-5437c0186151"
   },
   "outputs": [
    {
     "data": {
      "text/html": [
       "<div>\n",
       "<style scoped>\n",
       "    .dataframe tbody tr th:only-of-type {\n",
       "        vertical-align: middle;\n",
       "    }\n",
       "\n",
       "    .dataframe tbody tr th {\n",
       "        vertical-align: top;\n",
       "    }\n",
       "\n",
       "    .dataframe thead th {\n",
       "        text-align: right;\n",
       "    }\n",
       "</style>\n",
       "<table border=\"1\" class=\"dataframe\">\n",
       "  <thead>\n",
       "    <tr style=\"text-align: right;\">\n",
       "      <th></th>\n",
       "      <th>sex</th>\n",
       "      <th>age</th>\n",
       "      <th>famsize</th>\n",
       "      <th>Pstatus</th>\n",
       "      <th>traveltime</th>\n",
       "      <th>studytime</th>\n",
       "      <th>schoolsup</th>\n",
       "      <th>famsup</th>\n",
       "      <th>paid</th>\n",
       "      <th>activities</th>\n",
       "      <th>internet</th>\n",
       "      <th>romantic</th>\n",
       "      <th>famrel</th>\n",
       "      <th>freetime</th>\n",
       "      <th>goout</th>\n",
       "      <th>absences</th>\n",
       "      <th>G3</th>\n",
       "    </tr>\n",
       "  </thead>\n",
       "  <tbody>\n",
       "    <tr>\n",
       "      <th>0</th>\n",
       "      <td>F</td>\n",
       "      <td>18</td>\n",
       "      <td>GT3</td>\n",
       "      <td>A</td>\n",
       "      <td>2</td>\n",
       "      <td>2</td>\n",
       "      <td>yes</td>\n",
       "      <td>no</td>\n",
       "      <td>NaN</td>\n",
       "      <td>no</td>\n",
       "      <td>no</td>\n",
       "      <td>no</td>\n",
       "      <td>4</td>\n",
       "      <td>3</td>\n",
       "      <td>4</td>\n",
       "      <td>6</td>\n",
       "      <td>6</td>\n",
       "    </tr>\n",
       "    <tr>\n",
       "      <th>1</th>\n",
       "      <td>F</td>\n",
       "      <td>17</td>\n",
       "      <td>GT3</td>\n",
       "      <td>T</td>\n",
       "      <td>1</td>\n",
       "      <td>2</td>\n",
       "      <td>no</td>\n",
       "      <td>yes</td>\n",
       "      <td>NaN</td>\n",
       "      <td>no</td>\n",
       "      <td>yes</td>\n",
       "      <td>no</td>\n",
       "      <td>5</td>\n",
       "      <td>3</td>\n",
       "      <td>3</td>\n",
       "      <td>4</td>\n",
       "      <td>6</td>\n",
       "    </tr>\n",
       "    <tr>\n",
       "      <th>2</th>\n",
       "      <td>F</td>\n",
       "      <td>15</td>\n",
       "      <td>LE3</td>\n",
       "      <td>T</td>\n",
       "      <td>1</td>\n",
       "      <td>2</td>\n",
       "      <td>yes</td>\n",
       "      <td>no</td>\n",
       "      <td>NaN</td>\n",
       "      <td>no</td>\n",
       "      <td>yes</td>\n",
       "      <td>no</td>\n",
       "      <td>4</td>\n",
       "      <td>3</td>\n",
       "      <td>2</td>\n",
       "      <td>10</td>\n",
       "      <td>10</td>\n",
       "    </tr>\n",
       "    <tr>\n",
       "      <th>3</th>\n",
       "      <td>F</td>\n",
       "      <td>15</td>\n",
       "      <td>GT3</td>\n",
       "      <td>T</td>\n",
       "      <td>1</td>\n",
       "      <td>3</td>\n",
       "      <td>no</td>\n",
       "      <td>yes</td>\n",
       "      <td>NaN</td>\n",
       "      <td>yes</td>\n",
       "      <td>yes</td>\n",
       "      <td>yes</td>\n",
       "      <td>3</td>\n",
       "      <td>2</td>\n",
       "      <td>2</td>\n",
       "      <td>2</td>\n",
       "      <td>15</td>\n",
       "    </tr>\n",
       "    <tr>\n",
       "      <th>4</th>\n",
       "      <td>F</td>\n",
       "      <td>16</td>\n",
       "      <td>GT3</td>\n",
       "      <td>T</td>\n",
       "      <td>1</td>\n",
       "      <td>2</td>\n",
       "      <td>no</td>\n",
       "      <td>yes</td>\n",
       "      <td>NaN</td>\n",
       "      <td>no</td>\n",
       "      <td>no</td>\n",
       "      <td>no</td>\n",
       "      <td>4</td>\n",
       "      <td>3</td>\n",
       "      <td>2</td>\n",
       "      <td>4</td>\n",
       "      <td>10</td>\n",
       "    </tr>\n",
       "  </tbody>\n",
       "</table>\n",
       "</div>"
      ],
      "text/plain": [
       "  sex  age famsize Pstatus  traveltime  ...  famrel freetime goout  absences  G3\n",
       "0   F   18     GT3       A           2  ...       4        3     4         6   6\n",
       "1   F   17     GT3       T           1  ...       5        3     3         4   6\n",
       "2   F   15     LE3       T           1  ...       4        3     2        10  10\n",
       "3   F   15     GT3       T           1  ...       3        2     2         2  15\n",
       "4   F   16     GT3       T           1  ...       4        3     2         4  10\n",
       "\n",
       "[5 rows x 17 columns]"
      ]
     },
     "execution_count": 5,
     "metadata": {
      "tags": []
     },
     "output_type": "execute_result"
    }
   ],
   "source": [
    "df.paid=df.paid.map({\"no\":0,\\\n",
    "                     \"yes\":1})\n",
    "df.head()"
   ]
  },
  {
   "cell_type": "code",
   "execution_count": null,
   "metadata": {
    "id": "Ic-3tY8H-p4t"
   },
   "outputs": [],
   "source": [
    "def getData():\n",
    "    X, y = make_friedman1(n_samples = 10000, n_features = 5, noise = 5.0, random_state = 0)\n",
    "    return X, y"
   ]
  },
  {
   "cell_type": "code",
   "execution_count": null,
   "metadata": {
    "id": "g8-rUBMw-qFA"
   },
   "outputs": [],
   "source": [
    "X,y=getData()"
   ]
  },
  {
   "cell_type": "code",
   "execution_count": null,
   "metadata": {
    "colab": {
     "base_uri": "https://localhost:8080/"
    },
    "id": "I6KVvfac-qKs",
    "outputId": "df80cc3a-7e94-4a1f-ff56-b59dcdfbc428"
   },
   "outputs": [
    {
     "data": {
      "text/plain": [
       "(10000, 5)"
      ]
     },
     "execution_count": 4,
     "metadata": {
      "tags": []
     },
     "output_type": "execute_result"
    }
   ],
   "source": [
    "X.shape"
   ]
  },
  {
   "cell_type": "code",
   "execution_count": null,
   "metadata": {
    "id": "6IENtbirJ9p9"
   },
   "outputs": [],
   "source": [
    "class regLinear():\n",
    "  \n",
    "    \n",
    "    def __init__(self, learning_rate, num_steps):\n",
    "        self.learning_rate = learning_rate\n",
    "        self.num_steps = num_steps\n",
    "        \n",
    "    def fit(self, X, y):\n",
    "        y = y.reshape(-1,1)\n",
    "        m = X.shape[0] \n",
    "        k = X.shape[1] \n",
    "        theta = np.random.randn(k+1,1) \n",
    "        X_b = np.c_[np.ones((m, 1)), X] \n",
    "        for step in range(self.num_steps):\n",
    "            gradients = 2/m * X_b.T.dot(X_b.dot(theta) - y)\n",
    "            theta = theta - self.learning_rate * gradients\n",
    "        self.theta_final = theta\n",
    "        \n",
    "        \n",
    "    def predict(self, X):\n",
    "        m = X.shape[0]\n",
    "        X_b = np.c_[np.ones((m, 1)), X]\n",
    "        preds = X_b.dot(self.theta_final)\n",
    "        return preds.reshape(-1,)"
   ]
  },
  {
   "cell_type": "code",
   "execution_count": null,
   "metadata": {
    "id": "3DUY1SEzoTDF"
   },
   "outputs": [],
   "source": [
    "from sklearn.model_selection import train_test_split"
   ]
  },
  {
   "cell_type": "code",
   "execution_count": null,
   "metadata": {
    "id": "xrkK9bZxoTz0"
   },
   "outputs": [],
   "source": [
    "x=np.c_[np.ones((X.shape[0],1)),X]"
   ]
  },
  {
   "cell_type": "code",
   "execution_count": null,
   "metadata": {
    "id": "BscKx9xzoT5e"
   },
   "outputs": [],
   "source": [
    "x1=pd.DataFrame(x)"
   ]
  },
  {
   "cell_type": "code",
   "execution_count": null,
   "metadata": {
    "colab": {
     "base_uri": "https://localhost:8080/",
     "height": 204
    },
    "id": "CBpF7kDerM90",
    "outputId": "016cc813-4266-4f46-a863-5d6a4550e8cc"
   },
   "outputs": [
    {
     "data": {
      "text/html": [
       "<div>\n",
       "<style scoped>\n",
       "    .dataframe tbody tr th:only-of-type {\n",
       "        vertical-align: middle;\n",
       "    }\n",
       "\n",
       "    .dataframe tbody tr th {\n",
       "        vertical-align: top;\n",
       "    }\n",
       "\n",
       "    .dataframe thead th {\n",
       "        text-align: right;\n",
       "    }\n",
       "</style>\n",
       "<table border=\"1\" class=\"dataframe\">\n",
       "  <thead>\n",
       "    <tr style=\"text-align: right;\">\n",
       "      <th></th>\n",
       "      <th>0</th>\n",
       "      <th>1</th>\n",
       "      <th>2</th>\n",
       "      <th>3</th>\n",
       "      <th>4</th>\n",
       "      <th>5</th>\n",
       "    </tr>\n",
       "  </thead>\n",
       "  <tbody>\n",
       "    <tr>\n",
       "      <th>0</th>\n",
       "      <td>1.0</td>\n",
       "      <td>0.548814</td>\n",
       "      <td>0.715189</td>\n",
       "      <td>0.602763</td>\n",
       "      <td>0.544883</td>\n",
       "      <td>0.423655</td>\n",
       "    </tr>\n",
       "    <tr>\n",
       "      <th>1</th>\n",
       "      <td>1.0</td>\n",
       "      <td>0.645894</td>\n",
       "      <td>0.437587</td>\n",
       "      <td>0.891773</td>\n",
       "      <td>0.963663</td>\n",
       "      <td>0.383442</td>\n",
       "    </tr>\n",
       "    <tr>\n",
       "      <th>2</th>\n",
       "      <td>1.0</td>\n",
       "      <td>0.791725</td>\n",
       "      <td>0.528895</td>\n",
       "      <td>0.568045</td>\n",
       "      <td>0.925597</td>\n",
       "      <td>0.071036</td>\n",
       "    </tr>\n",
       "    <tr>\n",
       "      <th>3</th>\n",
       "      <td>1.0</td>\n",
       "      <td>0.087129</td>\n",
       "      <td>0.020218</td>\n",
       "      <td>0.832620</td>\n",
       "      <td>0.778157</td>\n",
       "      <td>0.870012</td>\n",
       "    </tr>\n",
       "    <tr>\n",
       "      <th>4</th>\n",
       "      <td>1.0</td>\n",
       "      <td>0.978618</td>\n",
       "      <td>0.799159</td>\n",
       "      <td>0.461479</td>\n",
       "      <td>0.780529</td>\n",
       "      <td>0.118274</td>\n",
       "    </tr>\n",
       "  </tbody>\n",
       "</table>\n",
       "</div>"
      ],
      "text/plain": [
       "     0         1         2         3         4         5\n",
       "0  1.0  0.548814  0.715189  0.602763  0.544883  0.423655\n",
       "1  1.0  0.645894  0.437587  0.891773  0.963663  0.383442\n",
       "2  1.0  0.791725  0.528895  0.568045  0.925597  0.071036\n",
       "3  1.0  0.087129  0.020218  0.832620  0.778157  0.870012\n",
       "4  1.0  0.978618  0.799159  0.461479  0.780529  0.118274"
      ]
     },
     "execution_count": 9,
     "metadata": {
      "tags": []
     },
     "output_type": "execute_result"
    }
   ],
   "source": [
    "x1.head()"
   ]
  },
  {
   "cell_type": "code",
   "execution_count": null,
   "metadata": {
    "id": "_RLQIkNJzCQS"
   },
   "outputs": [],
   "source": [
    "from sklearn.model_selection import KFold"
   ]
  },
  {
   "cell_type": "code",
   "execution_count": null,
   "metadata": {
    "id": "o8sr-Jqw0zZa"
   },
   "outputs": [],
   "source": [
    "kf=KFold(n_splits=5)\n",
    "from sklearn.metrics import mean_squared_error"
   ]
  },
  {
   "cell_type": "code",
   "execution_count": null,
   "metadata": {
    "id": "Z_Zs-ur22reE"
   },
   "outputs": [],
   "source": [
    "def funcao(x,learning_rate,num_steps):\n",
    "  lista=[]\n",
    "  for train_idx,test_idx in kf.split(x):\n",
    "    xtreino=x[train_idx]\n",
    "    xteste=x[test_idx]\n",
    "    ytreino=y[train_idx]\n",
    "    yteste=y[test_idx]\n",
    "\n",
    "    lin_reg=regLinear(learning_rate,num_steps)\n",
    "    lin_reg.fit(xtreino,ytreino)\n",
    "    lista.append(mean_squared_error(ytreino,lin_reg.predict(xtreino)))\n",
    "  print(\"Media MSE:  \",round(np.mean(lista),3))\n",
    "  print()\n",
    "  plt.figure(figsize=[20,8])\n",
    "  plt.title(\"Valores MSE\",fontsize=14)\n",
    "  plt.scatter(range(len(lista)),lista)\n",
    "  plt.plot(range(len(lista)),lista)\n",
    "  plt.xlim(-1,5)\n",
    "  plt.ylim(20,40)\n",
    "  plt.xlabel(\"Número de iterações\")\n",
    "  plt.ylabel(\"MSE\")\n",
    "  plt.show"
   ]
  },
  {
   "cell_type": "code",
   "execution_count": null,
   "metadata": {
    "colab": {
     "base_uri": "https://localhost:8080/",
     "height": 540
    },
    "id": "ueUFGEkf7faS",
    "outputId": "8d1de009-90f9-4867-9954-982c9599aac9"
   },
   "outputs": [
    {
     "name": "stdout",
     "output_type": "stream",
     "text": [
      "Media MSE:   30.807\n",
      "\n"
     ]
    },
    {
     "data": {
      "image/png": "[encoded data removed]",
      "text/plain": [
       "<Figure size 1440x576 with 1 Axes>"
      ]
     },
     "metadata": {
      "needs_background": "light",
      "tags": []
     },
     "output_type": "display_data"
    }
   ],
   "source": [
    "\n",
    "funcao(x,0.15,200)"
   ]
  },
  {
   "cell_type": "code",
   "execution_count": null,
   "metadata": {
    "colab": {
     "base_uri": "https://localhost:8080/",
     "height": 540
    },
    "id": "pVRgs2ouCfjE",
    "outputId": "754cf125-1383-4ab0-9004-f6885ae1b60a"
   },
   "outputs": [
    {
     "name": "stdout",
     "output_type": "stream",
     "text": [
      "Media MSE:   37.889\n",
      "\n"
     ]
    },
    {
     "data": {
      "image/png": "[encoded data removed]",
      "text/plain": [
       "<Figure size 1440x576 with 1 Axes>"
      ]
     },
     "metadata": {
      "needs_background": "light",
      "tags": []
     },
     "output_type": "display_data"
    }
   ],
   "source": [
    "funcao(x,0.15,10)"
   ]
  },
  {
   "cell_type": "code",
   "execution_count": null,
   "metadata": {
    "colab": {
     "base_uri": "https://localhost:8080/",
     "height": 540
    },
    "id": "Y0dscibrN7rU",
    "outputId": "be12ea4b-b696-47b9-f95c-21ad37db5eb2"
   },
   "outputs": [
    {
     "name": "stdout",
     "output_type": "stream",
     "text": [
      "Media MSE:   31.067\n",
      "\n"
     ]
    },
    {
     "data": {
      "image/png": "[encoded data removed]",
      "text/plain": [
       "<Figure size 1440x576 with 1 Axes>"
      ]
     },
     "metadata": {
      "needs_background": "light",
      "tags": []
     },
     "output_type": "display_data"
    }
   ],
   "source": [
    "funcao(x,0.15,100)"
   ]
  },
  {
   "cell_type": "code",
   "execution_count": null,
   "metadata": {
    "colab": {
     "base_uri": "https://localhost:8080/",
     "height": 540
    },
    "id": "bd8e4e_KOQw8",
    "outputId": "fa6b4524-970f-4c9b-992e-52040cc2ad33"
   },
   "outputs": [
    {
     "name": "stdout",
     "output_type": "stream",
     "text": [
      "Media MSE:   37.018\n",
      "\n"
     ]
    },
    {
     "data": {
      "image/png": "[encoded data removed]",
      "text/plain": [
       "<Figure size 1440x576 with 1 Axes>"
      ]
     },
     "metadata": {
      "needs_background": "light",
      "tags": []
     },
     "output_type": "display_data"
    }
   ],
   "source": [
    "funcao(x,0.20,10)"
   ]
  },
  {
   "cell_type": "code",
   "execution_count": null,
   "metadata": {
    "colab": {
     "base_uri": "https://localhost:8080/",
     "height": 540
    },
    "id": "COD5kkPmOXS1",
    "outputId": "cfcdc294-a478-4a78-a62b-ef5413f28b49"
   },
   "outputs": [
    {
     "name": "stdout",
     "output_type": "stream",
     "text": [
      "Media MSE:   30.878\n",
      "\n"
     ]
    },
    {
     "data": {
      "image/png": "[encoded data removed]",
      "text/plain": [
       "<Figure size 1440x576 with 1 Axes>"
      ]
     },
     "metadata": {
      "needs_background": "light",
      "tags": []
     },
     "output_type": "display_data"
    }
   ],
   "source": [
    "funcao(x,0.20,100)"
   ]
  },
  {
   "cell_type": "code",
   "execution_count": null,
   "metadata": {
    "colab": {
     "base_uri": "https://localhost:8080/",
     "height": 540
    },
    "id": "l9fyMLiEOcvz",
    "outputId": "ce02d11d-91da-48d2-cf8e-fb2a486f1ff8"
   },
   "outputs": [
    {
     "name": "stdout",
     "output_type": "stream",
     "text": [
      "Media MSE:   30.797\n",
      "\n"
     ]
    },
    {
     "data": {
      "image/png": "[encoded data removed]",
      "text/plain": [
       "<Figure size 1440x576 with 1 Axes>"
      ]
     },
     "metadata": {
      "needs_background": "light",
      "tags": []
     },
     "output_type": "display_data"
    }
   ],
   "source": [
    "funcao(x,0.2,200)"
   ]
  },
  {
   "cell_type": "code",
   "execution_count": null,
   "metadata": {
    "colab": {
     "base_uri": "https://localhost:8080/",
     "height": 540
    },
    "id": "Xx5xgfPvOko3",
    "outputId": "59d84623-8271-4d82-b5ec-a8ea3543e9b3"
   },
   "outputs": [
    {
     "name": "stdout",
     "output_type": "stream",
     "text": [
      "Media MSE:   30.989\n",
      "\n"
     ]
    },
    {
     "data": {
      "image/png": "[encoded data removed]",
      "text/plain": [
       "<Figure size 1440x576 with 1 Axes>"
      ]
     },
     "metadata": {
      "needs_background": "light",
      "tags": []
     },
     "output_type": "display_data"
    }
   ],
   "source": [
    "funcao(x,0.3,100)"
   ]
  },
  {
   "cell_type": "code",
   "execution_count": null,
   "metadata": {
    "colab": {
     "base_uri": "https://localhost:8080/",
     "height": 540
    },
    "id": "MX-S298IOu6t",
    "outputId": "cdeb2efe-1c79-4124-8c58-0f972e1781b2"
   },
   "outputs": [
    {
     "name": "stdout",
     "output_type": "stream",
     "text": [
      "Media MSE:   30.796\n",
      "\n"
     ]
    },
    {
     "data": {
      "image/png": "[encoded data removed]",
      "text/plain": [
       "<Figure size 1440x576 with 1 Axes>"
      ]
     },
     "metadata": {
      "needs_background": "light",
      "tags": []
     },
     "output_type": "display_data"
    }
   ],
   "source": [
    "funcao(x,0.3,200)"
   ]
  },
  {
   "cell_type": "code",
   "execution_count": null,
   "metadata": {
    "colab": {
     "base_uri": "https://localhost:8080/",
     "height": 540
    },
    "id": "W_SvATemO1g2",
    "outputId": "ba6dccad-24e6-4ded-97ff-d8a227b50c0a"
   },
   "outputs": [
    {
     "name": "stdout",
     "output_type": "stream",
     "text": [
      "Media MSE:   30.888\n",
      "\n"
     ]
    },
    {
     "data": {
      "image/png": "[encoded data removed]",
      "text/plain": [
       "<Figure size 1440x576 with 1 Axes>"
      ]
     },
     "metadata": {
      "needs_background": "light",
      "tags": []
     },
     "output_type": "display_data"
    }
   ],
   "source": [
    "funcao(x,0.1,200)"
   ]
  },
  {
   "cell_type": "code",
   "execution_count": null,
   "metadata": {
    "colab": {
     "base_uri": "https://localhost:8080/",
     "height": 540
    },
    "id": "7j_NO7HKO-DX",
    "outputId": "fbf47f67-6d5d-4f58-bf19-f76d1da44ee9"
   },
   "outputs": [
    {
     "name": "stdout",
     "output_type": "stream",
     "text": [
      "Media MSE:   31.523\n",
      "\n"
     ]
    },
    {
     "data": {
      "image/png": "[encoded data removed]",
      "text/plain": [
       "<Figure size 1440x576 with 1 Axes>"
      ]
     },
     "metadata": {
      "needs_background": "light",
      "tags": []
     },
     "output_type": "display_data"
    }
   ],
   "source": [
    "funcao(x,0.05,200)"
   ]
  },
  {
   "cell_type": "markdown",
   "metadata": {
    "id": "CbYQh_9lP5zE"
   },
   "source": [
    "# Ao final dos teste consegui identificar que os melhores parametros foram uma taxa de aprendizado de 0.2 com 200 passos apresentado um MSE médio de 30.795\n",
    "\n",
    "\n",
    "```\n",
    "\n",
    "```\n",
    "\n",
    "\n",
    "---\n",
    "\n"
   ]
  },
  {
   "cell_type": "code",
   "execution_count": null,
   "metadata": {
    "id": "rX_kkdfiBlhG"
   },
   "outputs": [],
   "source": [
    "from  sklearn.linear_model import LinearRegression"
   ]
  },
  {
   "cell_type": "code",
   "execution_count": null,
   "metadata": {
    "colab": {
     "base_uri": "https://localhost:8080/"
    },
    "id": "3HyJrdLcCAlZ",
    "outputId": "01985ae8-deb3-4335-8f9f-87ef58449c71"
   },
   "outputs": [
    {
     "data": {
      "text/plain": [
       "LinearRegression(copy_X=True, fit_intercept=True, n_jobs=None, normalize=False)"
      ]
     },
     "execution_count": 24,
     "metadata": {
      "tags": []
     },
     "output_type": "execute_result"
    }
   ],
   "source": [
    "lr=LinearRegression()\n",
    "lr.fit(x,y)"
   ]
  },
  {
   "cell_type": "code",
   "execution_count": null,
   "metadata": {
    "colab": {
     "base_uri": "https://localhost:8080/"
    },
    "id": "ZGkunJk6Ea_6",
    "outputId": "625155dc-7f1f-4472-e9ef-c98827e62e46"
   },
   "outputs": [
    {
     "name": "stdout",
     "output_type": "stream",
     "text": [
      "30.803038341320473\n"
     ]
    }
   ],
   "source": [
    "ypred=lr.predict(x)\n",
    "mse=mean_squared_error(y,ypred)\n",
    "\n",
    "print(mse)"
   ]
  },
  {
   "cell_type": "markdown",
   "metadata": {
    "id": "61nSgqyrE2q0"
   },
   "source": [
    "## Vimos que o valor do Mse da regressão linear do sklearn foi bem próximo do valor encontrado acima, o que comprova a escolha dos parâmetros."
   ]
  },
  {
   "cell_type": "markdown",
   "metadata": {
    "id": "f1aZ2tW_Z9cP"
   },
   "source": [
    "## EX 1.2"
   ]
  },
  {
   "cell_type": "code",
   "execution_count": null,
   "metadata": {
    "id": "CYZ0g_m4FZw2"
   },
   "outputs": [],
   "source": [
    "from sklearn.preprocessing import PolynomialFeatures"
   ]
  },
  {
   "cell_type": "code",
   "execution_count": null,
   "metadata": {
    "colab": {
     "base_uri": "https://localhost:8080/"
    },
    "id": "37l9sUguLM06",
    "outputId": "bf34a773-ed95-4fbf-dcd9-ec9b6d085141"
   },
   "outputs": [
    {
     "name": "stdout",
     "output_type": "stream",
     "text": [
      "Media MSE com learning  rate  =  0.07 \n",
      " 28.361\n",
      "\n",
      "Media MSE com learning  rate  =  0.08 \n",
      " 28.17\n",
      "\n",
      "Media MSE com learning  rate  =  0.09 \n",
      " 27.949\n",
      "\n",
      "Media MSE com learning  rate  =  0.1 \n",
      " 27.816\n",
      "\n",
      "Media MSE com learning  rate  =  0.12 \n",
      " 27.502\n",
      "\n",
      "Media MSE com learning  rate  =  0.13 \n",
      " 27.365\n",
      "\n",
      "Media MSE com learning  rate  =  0.14 \n",
      " 27.329\n",
      "\n",
      "Media MSE com learning  rate  =  0.15 \n",
      " 1.6631523488241871e+53\n",
      "\n"
     ]
    }
   ],
   "source": [
    "lista=[0.07,0.08,0.09,0.1,0.12,0.13,0.14,0.15]\n",
    "for i in lista:\n",
    "  lista1=[]\n",
    "  for train_idx,test_idx in kf.split(x):\n",
    "    xtreino=x[train_idx]\n",
    "    xteste=x[test_idx]\n",
    "    ytreino=y[train_idx]\n",
    "    yteste=y[test_idx]\n",
    "\n",
    "    pol=PolynomialFeatures(degree=2,include_bias=False)\n",
    "    xpol=pol.fit_transform(xtreino)\n",
    "\n",
    "    lin_reg=regLinear(i,1000)\n",
    "    lin_reg.fit(xpol,ytreino)\n",
    "    lista1.append(mean_squared_error(ytreino,lin_reg.predict(xpol)))\n",
    "  print(\"Media MSE com learning  rate  = \",i ,\"\\n\" ,   round(np.mean(lista1),3))\n",
    "  print()\n",
    "  "
   ]
  },
  {
   "cell_type": "markdown",
   "metadata": {
    "id": "9SZmP0vXTFi1"
   },
   "source": [
    "### Com o teste acima determinamos que a melhor learning rate se trata de 0.14, a partir disso realizarei outro loop alterando o número de passos."
   ]
  },
  {
   "cell_type": "code",
   "execution_count": null,
   "metadata": {
    "colab": {
     "base_uri": "https://localhost:8080/"
    },
    "id": "28EH8xIfTVHI",
    "outputId": "03cfd240-6287-4860-d8a6-77664f145e9e"
   },
   "outputs": [
    {
     "name": "stdout",
     "output_type": "stream",
     "text": [
      "Media MSE com numeros de passos  =  250 \n",
      " 29.463\n",
      "\n",
      "Media MSE com numeros de passos  =  500 \n",
      " 28.3\n",
      "\n",
      "Media MSE com numeros de passos  =  1000 \n",
      " 27.286\n",
      "\n",
      "Media MSE com numeros de passos  =  1500 \n",
      " 26.906\n",
      "\n",
      "Media MSE com numeros de passos  =  2000 \n",
      " 26.747\n",
      "\n",
      "Media MSE com numeros de passos  =  5000 \n",
      " 26.633\n",
      "\n"
     ]
    }
   ],
   "source": [
    "step=[250,500,1000,1500,2000,5000]\n",
    "for s in step:\n",
    "  lista1=[]\n",
    "  for train_idx,test_idx in kf.split(x):\n",
    "    xtreino=x[train_idx]\n",
    "    xteste=x[test_idx]\n",
    "    ytreino=y[train_idx]\n",
    "    yteste=y[test_idx]\n",
    "\n",
    "    pol=PolynomialFeatures(degree=2,include_bias=False)\n",
    "    xpol=pol.fit_transform(xtreino)\n",
    "\n",
    "    lin_reg=regLinear(0.14,s)\n",
    "    lin_reg.fit(xpol,ytreino)\n",
    "    lista1.append(mean_squared_error(ytreino,lin_reg.predict(xpol)))\n",
    "  print(\"Media MSE com numeros de passos  = \",s ,\"\\n\" ,   round(np.mean(lista1),3))\n",
    "  print()"
   ]
  },
  {
   "cell_type": "markdown",
   "metadata": {
    "id": "GE8w-frtUlkL"
   },
   "source": [
    "### Vimos que com  5000 passos encontramos um Mse bem baixo, porém, irei escolher 2000 passos como parâmetro,pois não houve diferença significativa com o valor encontrado em 5000 passos."
   ]
  },
  {
   "cell_type": "markdown",
   "metadata": {
    "id": "ewgsYYQUVvQ9"
   },
   "source": [
    "### Portanto os parâmetros selecionados para regressão polinomial de grau 2 sera de 0.14 a taxa de aprendizado e 2000 passos."
   ]
  },
  {
   "cell_type": "code",
   "execution_count": null,
   "metadata": {
    "id": "lyyOFf-yWCvW"
   },
   "outputs": [],
   "source": [
    "lr_pol=LinearRegression()"
   ]
  },
  {
   "cell_type": "code",
   "execution_count": null,
   "metadata": {
    "id": "NY4zoJFxXUYy"
   },
   "outputs": [],
   "source": [
    "xpol1=pol.fit_transform(x)"
   ]
  },
  {
   "cell_type": "code",
   "execution_count": null,
   "metadata": {
    "colab": {
     "base_uri": "https://localhost:8080/"
    },
    "id": "aGPRbT_pXatp",
    "outputId": "72eb5ebe-58ff-4cbf-a10b-b4cc12ce4796"
   },
   "outputs": [
    {
     "data": {
      "text/plain": [
       "LinearRegression(copy_X=True, fit_intercept=True, n_jobs=None, normalize=False)"
      ]
     },
     "execution_count": 31,
     "metadata": {
      "tags": []
     },
     "output_type": "execute_result"
    }
   ],
   "source": [
    "lr_pol.fit(xpol1,y)"
   ]
  },
  {
   "cell_type": "code",
   "execution_count": null,
   "metadata": {
    "id": "DvGK3xCcYBOo"
   },
   "outputs": [],
   "source": [
    "mse_pol=mean_squared_error(y,lr_pol.predict(xpol1))"
   ]
  },
  {
   "cell_type": "code",
   "execution_count": null,
   "metadata": {
    "colab": {
     "base_uri": "https://localhost:8080/"
    },
    "id": "5f2ytudyYYPS",
    "outputId": "c96e7763-7a97-4ec8-bce8-6e6843d5abf2"
   },
   "outputs": [
    {
     "name": "stdout",
     "output_type": "stream",
     "text": [
      "26.647199970652746\n"
     ]
    }
   ],
   "source": [
    "print(mse_pol)"
   ]
  },
  {
   "cell_type": "markdown",
   "metadata": {
    "id": "Yiiv0JuBYtGL"
   },
   "source": [
    "### Considerando o Mse da regressão do sklearn, vemos que ficou bem próximo do valor selecionado anteriormente, agora iremos instanciar a regularização."
   ]
  },
  {
   "cell_type": "code",
   "execution_count": null,
   "metadata": {
    "id": "UzZ8v1kSYIG2"
   },
   "outputs": [],
   "source": [
    "from sklearn.linear_model import Ridge,Lasso"
   ]
  },
  {
   "cell_type": "code",
   "execution_count": null,
   "metadata": {
    "colab": {
     "base_uri": "https://localhost:8080/"
    },
    "id": "l2hTSGxQX9ky",
    "outputId": "0c49a52a-6009-41ec-a366-d8352c51e4b6"
   },
   "outputs": [
    {
     "name": "stdout",
     "output_type": "stream",
     "text": [
      "Media MSE com alpha   =  0.01 \n",
      " 26.632\n",
      "\n",
      "Media MSE com alpha   =  0.1 \n",
      " 26.632\n",
      "\n",
      "Media MSE com alpha   =  1 \n",
      " 26.638\n",
      "\n",
      "Media MSE com alpha   =  10 \n",
      " 26.957\n",
      "\n",
      "Media MSE com alpha   =  100 \n",
      " 29.423\n",
      "\n"
     ]
    }
   ],
   "source": [
    "## Regularização Ridge\n",
    "\n",
    "alpha=[0.01,0.1,1,10,100]\n",
    "for a in alpha:\n",
    "  lista1=[]\n",
    "  for train_idx,test_idx in kf.split(x):\n",
    "    xtreino=x[train_idx]\n",
    "    xteste=x[test_idx]\n",
    "    ytreino=y[train_idx]\n",
    "    yteste=y[test_idx]\n",
    "\n",
    "    pol=PolynomialFeatures(degree=2,include_bias=False)\n",
    "    xpol=pol.fit_transform(xtreino)\n",
    "\n",
    "    ridge=Ridge(alpha=a)\n",
    "    ridge.fit(xpol,ytreino)\n",
    "    lista1.append(mean_squared_error(ytreino,ridge.predict(xpol)))\n",
    "  print(\"Media MSE com alpha   = \",a ,\"\\n\" ,   round(np.mean(lista1),3))\n",
    "  print()"
   ]
  },
  {
   "cell_type": "code",
   "execution_count": null,
   "metadata": {
    "colab": {
     "base_uri": "https://localhost:8080/"
    },
    "id": "7DAHasflaXah",
    "outputId": "e25c3730-b874-4142-e9b7-0a1ef05cb86b"
   },
   "outputs": [
    {
     "name": "stdout",
     "output_type": "stream",
     "text": [
      "Media MSE com alpha   =  0.01 \n",
      " 26.878\n",
      "\n",
      "Media MSE com alpha   =  0.1 \n",
      " 31.17\n",
      "\n",
      "Media MSE com alpha   =  1 \n",
      " 49.186\n",
      "\n",
      "Media MSE com alpha   =  10 \n",
      " 49.186\n",
      "\n",
      "Media MSE com alpha   =  100 \n",
      " 49.186\n",
      "\n"
     ]
    }
   ],
   "source": [
    "## Regularização Lasso\n",
    "\n",
    "alpha=[0.01,0.1,1,10,100]\n",
    "for a in alpha:\n",
    "  lista1=[]\n",
    "  for train_idx,test_idx in kf.split(x):\n",
    "    xtreino=x[train_idx]\n",
    "    xteste=x[test_idx]\n",
    "    ytreino=y[train_idx]\n",
    "    yteste=y[test_idx]\n",
    "\n",
    "    pol=PolynomialFeatures(degree=2,include_bias=False)\n",
    "    xpol=pol.fit_transform(xtreino)\n",
    "\n",
    "    lasso=Lasso(alpha=a)\n",
    "    lasso.fit(xpol,ytreino)\n",
    "    lista1.append(mean_squared_error(ytreino,lasso.predict(xpol)))\n",
    "  print(\"Media MSE com alpha   = \",a ,\"\\n\" ,   round(np.mean(lista1),3))\n",
    "  print()"
   ]
  },
  {
   "cell_type": "markdown",
   "metadata": {
    "id": "cAGem7GccVdD"
   },
   "source": [
    "## Com a regularização é posssível constatar a melhor eficiência da regularização Ridge, apresentando um erro menor com alpha = 0.1"
   ]
  },
  {
   "cell_type": "markdown",
   "metadata": {
    "id": "1t5t03QnaC0B"
   },
   "source": [
    "\n",
    "\n",
    "\n",
    "\n",
    "## EX 2.1"
   ]
  },
  {
   "cell_type": "code",
   "execution_count": null,
   "metadata": {
    "id": "n09ygtnieegR"
   },
   "outputs": [],
   "source": [
    "def getData2():\n",
    "    X, y = make_classification(n_classes=2, n_features=5, n_samples=10000, random_state = 0)\n",
    "    return X, y"
   ]
  },
  {
   "cell_type": "code",
   "execution_count": null,
   "metadata": {
    "id": "c9f42VGh7bDc"
   },
   "outputs": [],
   "source": [
    "def logLossCost(ytrue, ypred_probs):\n",
    "    return (ytrue * np.log(ypred_probs) + (1 - ytrue) * np.log(1 - ypred_probs)).mean() * -1"
   ]
  },
  {
   "cell_type": "code",
   "execution_count": null,
   "metadata": {
    "id": "YvWdQjAm705U"
   },
   "outputs": [],
   "source": [
    "def sigmoid(t):\n",
    "    return 1 / (1 + np.exp(-t))"
   ]
  },
  {
   "cell_type": "code",
   "execution_count": null,
   "metadata": {
    "id": "_I20fCHMXr1Y"
   },
   "outputs": [],
   "source": [
    "class regLog():\n",
    "\n",
    "    \n",
    "    def __init__(self, learning_rate, num_steps,limiar):\n",
    "        self.learning_rate = learning_rate\n",
    "        self.num_steps = num_steps\n",
    "        self.limiar=limiar\n",
    "        \n",
    "    def fit(self, X, y):\n",
    "      y=y.reshape(-1,1)\n",
    "      m=X.shape[0]\n",
    "      k=X.shape[1]\n",
    "      X_b=np.c_[np.ones((m,1)),X]\n",
    "      theta=np.random.randn(k+1,1)\n",
    "      for step in range(self.num_steps):\n",
    "        yscore=sigmoid(X_b.dot(theta))\n",
    "        gradient=X_b.T.dot(yscore-y)\n",
    "        theta=theta-self.learning_rate*gradient\n",
    "      self.theta_final=theta  \n",
    "\n",
    "\n",
    "    \n",
    "     \n",
    "\n",
    "\n",
    "        \n",
    "    def predict_proba(self, X):\n",
    "      m=X.shape[0]\n",
    "      x_b=np.c_[np.ones((m,1)),X] \n",
    "\n",
    "      probs = sigmoid(x_b.dot(self.theta_final))\n",
    "      \n",
    "      return probs.reshape(-1,)\n",
    "\n",
    "    def predict(self,X):\n",
    "      m=X.shape[0]\n",
    "      x_b=np.c_[np.ones((m,1)),X] \n",
    "\n",
    "      probs = sigmoid(x_b.dot(self.theta_final))\n",
    "      ypred= np.where(probs>self.limiar,1,0)\n",
    "      return ypred\n"
   ]
  },
  {
   "cell_type": "code",
   "execution_count": null,
   "metadata": {
    "id": "haa5SQAbIVt-"
   },
   "outputs": [],
   "source": [
    "x1,y1=getData2()"
   ]
  },
  {
   "cell_type": "code",
   "execution_count": null,
   "metadata": {
    "id": "5SSVqco2vrrq"
   },
   "outputs": [],
   "source": []
  },
  {
   "cell_type": "code",
   "execution_count": null,
   "metadata": {
    "id": "YcfDSZ59CFy2"
   },
   "outputs": [],
   "source": [
    "rl=regLog(0.01,1000,0.5)"
   ]
  },
  {
   "cell_type": "code",
   "execution_count": null,
   "metadata": {
    "id": "1b2HI1bECP8G"
   },
   "outputs": [],
   "source": [
    "rl.fit(x1,y1)"
   ]
  },
  {
   "cell_type": "code",
   "execution_count": null,
   "metadata": {
    "colab": {
     "base_uri": "https://localhost:8080/"
    },
    "id": "Kq16NAWBCdo6",
    "outputId": "95f0ec2e-1818-4a64-f0d0-bad56a160d02"
   },
   "outputs": [
    {
     "name": "stderr",
     "output_type": "stream",
     "text": [
      "/usr/local/lib/python3.7/dist-packages/ipykernel_launcher.py:2: RuntimeWarning: overflow encountered in exp\n",
      "  \n"
     ]
    },
    {
     "data": {
      "text/plain": [
       "array([7.73436461e-018, 6.50949228e-077, 1.00000000e+000, ...,\n",
       "       4.13977108e-248, 0.00000000e+000, 1.28036318e-222])"
      ]
     },
     "execution_count": 59,
     "metadata": {
      "tags": []
     },
     "output_type": "execute_result"
    }
   ],
   "source": [
    "rl.predict_proba(x1)"
   ]
  },
  {
   "cell_type": "code",
   "execution_count": null,
   "metadata": {
    "colab": {
     "base_uri": "https://localhost:8080/"
    },
    "id": "YieW_IwHp8Lb",
    "outputId": "74c8b264-fc99-4abc-baf0-0c13f7a8dcbe"
   },
   "outputs": [
    {
     "name": "stderr",
     "output_type": "stream",
     "text": [
      "/usr/local/lib/python3.7/dist-packages/ipykernel_launcher.py:2: RuntimeWarning: overflow encountered in exp\n",
      "  \n"
     ]
    }
   ],
   "source": [
    "ypred=rl.predict(x1)"
   ]
  },
  {
   "cell_type": "code",
   "execution_count": null,
   "metadata": {
    "id": "4yao0CZ_GCiJ"
   },
   "outputs": [],
   "source": [
    "from  sklearn.metrics import confusion_matrix"
   ]
  },
  {
   "cell_type": "code",
   "execution_count": null,
   "metadata": {
    "id": "UhXIN06zI9Ux"
   },
   "outputs": [],
   "source": [
    "ypred=np.where(rl.predict_proba(x1)>0.5,1,0)\n",
    "cf=confusion_matrix(y1,ypred)"
   ]
  },
  {
   "cell_type": "code",
   "execution_count": null,
   "metadata": {
    "colab": {
     "base_uri": "https://localhost:8080/"
    },
    "id": "TlOFtK4_JIZ8",
    "outputId": "a13cd909-8222-47dc-e045-ddb178e56cc3"
   },
   "outputs": [
    {
     "name": "stdout",
     "output_type": "stream",
     "text": [
      "[[4184  810]\n",
      " [ 975 4031]]\n"
     ]
    }
   ],
   "source": [
    "print(cf)"
   ]
  },
  {
   "cell_type": "code",
   "execution_count": null,
   "metadata": {
    "id": "bYEQH7QppPuV"
   },
   "outputs": [],
   "source": [
    "from sklearn.linear_model import LogisticRegression"
   ]
  },
  {
   "cell_type": "code",
   "execution_count": null,
   "metadata": {
    "id": "oZGCjZawsuZs"
   },
   "outputs": [],
   "source": [
    "logi=LogisticRegression()"
   ]
  },
  {
   "cell_type": "code",
   "execution_count": null,
   "metadata": {
    "colab": {
     "base_uri": "https://localhost:8080/"
    },
    "id": "ibTD8q9es56O",
    "outputId": "c80082e3-3878-46bf-e0c5-418e82c5a158"
   },
   "outputs": [
    {
     "data": {
      "text/plain": [
       "LogisticRegression(C=1.0, class_weight=None, dual=False, fit_intercept=True,\n",
       "                   intercept_scaling=1, l1_ratio=None, max_iter=100,\n",
       "                   multi_class='auto', n_jobs=None, penalty='l2',\n",
       "                   random_state=None, solver='lbfgs', tol=0.0001, verbose=0,\n",
       "                   warm_start=False)"
      ]
     },
     "execution_count": 116,
     "metadata": {
      "tags": []
     },
     "output_type": "execute_result"
    }
   ],
   "source": [
    "logi.fit(x1,y1)"
   ]
  },
  {
   "cell_type": "code",
   "execution_count": null,
   "metadata": {
    "id": "vL87X_RZtCo7"
   },
   "outputs": [],
   "source": [
    "y12=logi.predict(x1)"
   ]
  },
  {
   "cell_type": "code",
   "execution_count": null,
   "metadata": {
    "id": "tjWmcnTatMi_"
   },
   "outputs": [],
   "source": [
    "cf1=confusion_matrix(y1,y12)"
   ]
  },
  {
   "cell_type": "code",
   "execution_count": null,
   "metadata": {
    "colab": {
     "base_uri": "https://localhost:8080/"
    },
    "id": "08DJQByhtUPH",
    "outputId": "50c34707-9793-497a-f307-96b20b188f84"
   },
   "outputs": [
    {
     "name": "stdout",
     "output_type": "stream",
     "text": [
      "[[4042  952]\n",
      " [ 785 4221]]\n"
     ]
    }
   ],
   "source": [
    "print(cf1)"
   ]
  },
  {
   "cell_type": "markdown",
   "metadata": {
    "id": "sSIhl-_DvxdH"
   },
   "source": [
    "## Com a análise acima pude verificar a proxi,idade entre os valores da confusion matrix do modelo criado e do modelo de regressão do sk learn, o que mostra que o modelo trabalhou bem"
   ]
  },
  {
   "cell_type": "code",
   "execution_count": null,
   "metadata": {
    "id": "LPMJZ5V6tWJo"
   },
   "outputs": [],
   "source": [
    "def func(x,y,v1,v2):\n",
    "  lng_rate=[0.001,0.01,0.1,1]\n",
    "  for l in lng_rate:\n",
    "    reglog=regLog(l,v1,v2)\n",
    "    reglog.fit(x,y)\n",
    "    ypred=reglog.predict(x)\n",
    "    cf=confusion_matrix(y,ypred)\n",
    "    print(\" Matriz de confusão para uma taxa de aprendizado de :\",l )\n",
    "  \n",
    "    print(cf)\n",
    "    print()"
   ]
  },
  {
   "cell_type": "markdown",
   "metadata": {
    "id": "v9vaA9wd8oSU"
   },
   "source": [
    "## testando os  dados variando a learnig rate"
   ]
  },
  {
   "cell_type": "code",
   "execution_count": null,
   "metadata": {
    "colab": {
     "base_uri": "https://localhost:8080/"
    },
    "id": "7SsN__Cc0jPn",
    "outputId": "8b5efc37-c953-4c76-d197-d092879f492c"
   },
   "outputs": [
    {
     "name": "stdout",
     "output_type": "stream",
     "text": [
      " Matriz de confusão para uma taxa de aprendizado de : 0.001\n",
      "[[4176  818]\n",
      " [1257 3749]]\n",
      "\n",
      " Matriz de confusão para uma taxa de aprendizado de : 0.01\n",
      "[[4024  970]\n",
      " [ 777 4229]]\n",
      "\n"
     ]
    },
    {
     "name": "stderr",
     "output_type": "stream",
     "text": [
      "/usr/local/lib/python3.7/dist-packages/ipykernel_launcher.py:2: RuntimeWarning: overflow encountered in exp\n",
      "  \n"
     ]
    },
    {
     "name": "stdout",
     "output_type": "stream",
     "text": [
      " Matriz de confusão para uma taxa de aprendizado de : 0.1\n",
      "[[4185  809]\n",
      " [ 979 4027]]\n",
      "\n",
      " Matriz de confusão para uma taxa de aprendizado de : 1\n",
      "[[4065  929]\n",
      " [ 805 4201]]\n",
      "\n"
     ]
    }
   ],
   "source": [
    "func(x1,y1,1000,0.5)"
   ]
  },
  {
   "cell_type": "markdown",
   "metadata": {
    "id": "FrL1V1S4-opE"
   },
   "source": [
    "## Com a análise acima pude verificar qua a taxa de aprendizado de 0.1 se comportou melhor nos dados, por isso utlizarei ela na variação do numero de passos abaixo"
   ]
  },
  {
   "cell_type": "code",
   "execution_count": null,
   "metadata": {
    "id": "-bmIBaI11J8Y"
   },
   "outputs": [],
   "source": [
    "def func1(x,y,v1,v2):\n",
    "  num_steps=[100,500,1000,2000]\n",
    "  for l in num_steps:\n",
    "    reglog=regLog(v1,l,v2)\n",
    "    reglog.fit(x,y)\n",
    "    ypred=reglog.predict(x)\n",
    "    cf=confusion_matrix(y,ypred)\n",
    "    print(\" Matriz de confusão para um número de passos de  :\",l )\n",
    "  \n",
    "    print(cf)\n",
    "    print()"
   ]
  },
  {
   "cell_type": "code",
   "execution_count": null,
   "metadata": {
    "colab": {
     "base_uri": "https://localhost:8080/"
    },
    "id": "rHt_DENd9kau",
    "outputId": "7c41ce75-f898-4ca9-da62-4b6973dc0f38"
   },
   "outputs": [
    {
     "name": "stderr",
     "output_type": "stream",
     "text": [
      "/usr/local/lib/python3.7/dist-packages/ipykernel_launcher.py:2: RuntimeWarning: overflow encountered in exp\n",
      "  \n"
     ]
    },
    {
     "name": "stdout",
     "output_type": "stream",
     "text": [
      " Matriz de confusão para um número de passos de  : 100\n",
      "[[4028  966]\n",
      " [ 775 4231]]\n",
      "\n",
      " Matriz de confusão para um número de passos de  : 500\n",
      "[[4081  913]\n",
      " [ 824 4182]]\n",
      "\n",
      " Matriz de confusão para um número de passos de  : 1000\n",
      "[[4166  828]\n",
      " [ 959 4047]]\n",
      "\n",
      " Matriz de confusão para um número de passos de  : 2000\n",
      "[[2876 2118]\n",
      " [1177 3829]]\n",
      "\n"
     ]
    }
   ],
   "source": [
    "func1(x1,y1,0.1,0.5)"
   ]
  },
  {
   "cell_type": "markdown",
   "metadata": {
    "id": "IpnpSbVR_HWu"
   },
   "source": [
    "## Após os testes pude verificar que com a taxa de 0.1 e número de passos = 1000 , apresentaram os melhores resultados."
   ]
  },
  {
   "cell_type": "code",
   "execution_count": null,
   "metadata": {
    "id": "QLnQeaGx_vbt"
   },
   "outputs": [],
   "source": []
  }
 ],
 "metadata": {
  "colab": {
   "collapsed_sections": [],
   "name": "EX_mod11.ipynb",
   "provenance": [],
   "toc_visible": true
  },
  "kernelspec": {
   "display_name": "Python 3 (ipykernel)",
   "language": "python",
   "name": "python3"
  },
  "language_info": {
   "codemirror_mode": {
    "name": "ipython",
    "version": 3
   },
   "file_extension": ".py",
   "mimetype": "text/x-python",
   "name": "python",
   "nbconvert_exporter": "python",
   "pygments_lexer": "ipython3",
   "version": "3.8.12"
  }
 },
 "nbformat": 4,
 "nbformat_minor": 1
}
