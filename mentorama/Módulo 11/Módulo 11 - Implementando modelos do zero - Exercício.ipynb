{
 "cells": [
  {
   "cell_type": "markdown",
   "metadata": {},
   "source": [
    "<br>\n",
    "\n",
    "### Exercício: Regressão Linear:\n",
    "__Parte 1:__\n",
    "\n",
    "1- Usando a função getData(), carregue os dados disponibilizados.\n",
    "\n",
    "2- Separe parte dos dados para o dataset de teste.\n",
    "\n",
    "3- Usando a metodologia de validação cruzada, teste diferentes parâmetros da regLinear - diferentes learning_rates e num_steps - para escolher a melhor combinação de parâmetros.\n",
    "\n",
    "4- Implemente a regressão linear do scikit-learn e compare os resultados obtidos."
   ]
  },
  {
   "cell_type": "code",
   "execution_count": 264,
   "metadata": {},
   "outputs": [],
   "source": [
    "import numpy as np\n",
    "import pandas as pd\n",
    "import matplotlib.pyplot as plt\n",
    "from sklearn.model_selection import train_test_split\n",
    "from sklearn.datasets import make_friedman1,make_classification"
   ]
  },
  {
   "cell_type": "code",
   "execution_count": 265,
   "metadata": {},
   "outputs": [],
   "source": [
    "#função para acessar os dados do exercício 1\n",
    "\n",
    "def getData():\n",
    "    X, y = make_friedman1(n_samples = 10000, n_features = 5, noise = 5.0, random_state = 0)\n",
    "    return X, y"
   ]
  },
  {
   "cell_type": "code",
   "execution_count": 266,
   "metadata": {},
   "outputs": [],
   "source": [
    "#classe regLinear para exercício\n",
    "\n",
    "class regLinear():\n",
    "    \n",
    "    def __init__(self, learning_rate, num_steps):\n",
    "        self.learning_rate = learning_rate\n",
    "        self.num_steps = num_steps\n",
    "        \n",
    "    def fit(self, X, y):\n",
    "        y = y.reshape(-1,1)\n",
    "        m = X.shape[0] \n",
    "        k = X.shape[1] \n",
    "        theta = np.random.randn(k+1,1) \n",
    "        X_b = np.c_[np.ones((m, 1)), X] \n",
    "        for step in range(self.num_steps):\n",
    "            gradients = 2/m * X_b.T.dot(X_b.dot(theta) - y)\n",
    "            theta = theta - self.learning_rate * gradients\n",
    "        self.theta_final = theta\n",
    "        print(\"modelo treinado.\")\n",
    "        \n",
    "    def predict(self, X):\n",
    "        m = X.shape[0]\n",
    "        X_b = np.c_[np.ones((m, 1)), X]\n",
    "        preds = X_b.dot(self.theta_final)\n",
    "        return preds.reshape(-1,)"
   ]
  },
  {
   "cell_type": "code",
   "execution_count": 267,
   "metadata": {},
   "outputs": [],
   "source": [
    "#função para acessar os dados do exercício 2\n",
    "\n",
    "def getData2():\n",
    "    X, y = make_classification(n_classes=2, n_features=5, n_samples=10000, random_state = 0)\n",
    "    return X, y"
   ]
  },
  {
   "cell_type": "code",
   "execution_count": 268,
   "metadata": {},
   "outputs": [],
   "source": [
    "X,y=getData()"
   ]
  },
  {
   "cell_type": "code",
   "execution_count": 269,
   "metadata": {},
   "outputs": [
    {
     "data": {
      "text/plain": [
       "((10000, 5), (10000,))"
      ]
     },
     "execution_count": 269,
     "metadata": {},
     "output_type": "execute_result"
    }
   ],
   "source": [
    "X.shape, y.shape"
   ]
  },
  {
   "cell_type": "code",
   "execution_count": 270,
   "metadata": {},
   "outputs": [],
   "source": [
    "from sklearn.model_selection import train_test_split"
   ]
  },
  {
   "cell_type": "code",
   "execution_count": 271,
   "metadata": {},
   "outputs": [],
   "source": [
    "x=np.c_[np.ones((X.shape[0],1)),X]"
   ]
  },
  {
   "cell_type": "code",
   "execution_count": 272,
   "metadata": {},
   "outputs": [],
   "source": [
    "x1=pd.DataFrame(x)"
   ]
  },
  {
   "cell_type": "code",
   "execution_count": 273,
   "metadata": {},
   "outputs": [
    {
     "data": {
      "text/html": [
       "<div>\n",
       "<style scoped>\n",
       "    .dataframe tbody tr th:only-of-type {\n",
       "        vertical-align: middle;\n",
       "    }\n",
       "\n",
       "    .dataframe tbody tr th {\n",
       "        vertical-align: top;\n",
       "    }\n",
       "\n",
       "    .dataframe thead th {\n",
       "        text-align: right;\n",
       "    }\n",
       "</style>\n",
       "<table border=\"1\" class=\"dataframe\">\n",
       "  <thead>\n",
       "    <tr style=\"text-align: right;\">\n",
       "      <th></th>\n",
       "      <th>0</th>\n",
       "      <th>1</th>\n",
       "      <th>2</th>\n",
       "      <th>3</th>\n",
       "      <th>4</th>\n",
       "      <th>5</th>\n",
       "    </tr>\n",
       "  </thead>\n",
       "  <tbody>\n",
       "    <tr>\n",
       "      <th>0</th>\n",
       "      <td>1.0</td>\n",
       "      <td>0.548814</td>\n",
       "      <td>0.715189</td>\n",
       "      <td>0.602763</td>\n",
       "      <td>0.544883</td>\n",
       "      <td>0.423655</td>\n",
       "    </tr>\n",
       "    <tr>\n",
       "      <th>1</th>\n",
       "      <td>1.0</td>\n",
       "      <td>0.645894</td>\n",
       "      <td>0.437587</td>\n",
       "      <td>0.891773</td>\n",
       "      <td>0.963663</td>\n",
       "      <td>0.383442</td>\n",
       "    </tr>\n",
       "    <tr>\n",
       "      <th>2</th>\n",
       "      <td>1.0</td>\n",
       "      <td>0.791725</td>\n",
       "      <td>0.528895</td>\n",
       "      <td>0.568045</td>\n",
       "      <td>0.925597</td>\n",
       "      <td>0.071036</td>\n",
       "    </tr>\n",
       "    <tr>\n",
       "      <th>3</th>\n",
       "      <td>1.0</td>\n",
       "      <td>0.087129</td>\n",
       "      <td>0.020218</td>\n",
       "      <td>0.832620</td>\n",
       "      <td>0.778157</td>\n",
       "      <td>0.870012</td>\n",
       "    </tr>\n",
       "    <tr>\n",
       "      <th>4</th>\n",
       "      <td>1.0</td>\n",
       "      <td>0.978618</td>\n",
       "      <td>0.799159</td>\n",
       "      <td>0.461479</td>\n",
       "      <td>0.780529</td>\n",
       "      <td>0.118274</td>\n",
       "    </tr>\n",
       "  </tbody>\n",
       "</table>\n",
       "</div>"
      ],
      "text/plain": [
       "     0         1         2         3         4         5\n",
       "0  1.0  0.548814  0.715189  0.602763  0.544883  0.423655\n",
       "1  1.0  0.645894  0.437587  0.891773  0.963663  0.383442\n",
       "2  1.0  0.791725  0.528895  0.568045  0.925597  0.071036\n",
       "3  1.0  0.087129  0.020218  0.832620  0.778157  0.870012\n",
       "4  1.0  0.978618  0.799159  0.461479  0.780529  0.118274"
      ]
     },
     "execution_count": 273,
     "metadata": {},
     "output_type": "execute_result"
    }
   ],
   "source": [
    "x1.head()"
   ]
  },
  {
   "cell_type": "code",
   "execution_count": 274,
   "metadata": {},
   "outputs": [],
   "source": [
    "from sklearn.model_selection import KFold"
   ]
  },
  {
   "cell_type": "code",
   "execution_count": 275,
   "metadata": {},
   "outputs": [],
   "source": [
    "kf=KFold(n_splits=5)\n",
    "from sklearn.metrics import mean_squared_error"
   ]
  },
  {
   "cell_type": "code",
   "execution_count": 276,
   "metadata": {},
   "outputs": [],
   "source": [
    "def funcao(x,learning_rate,num_steps):\n",
    "  lista=[]\n",
    "  for train_idx,test_idx in kf.split(x):\n",
    "    xtreino=x[train_idx]\n",
    "    xteste=x[test_idx]\n",
    "    ytreino=y[train_idx]\n",
    "    yteste=y[test_idx]\n",
    "\n",
    "    lin_reg=regLinear(learning_rate,num_steps)\n",
    "    lin_reg.fit(xtreino,ytreino)\n",
    "    lista.append(mean_squared_error(ytreino,lin_reg.predict(xtreino)))\n",
    "  print(\"Media MSE:  \",round(np.mean(lista),3))\n",
    "  print()\n",
    "  plt.figure(figsize=[20,8])\n",
    "  plt.title(\"Valores MSE\",fontsize=14)\n",
    "  plt.scatter(range(len(lista)),lista)\n",
    "  plt.plot(range(len(lista)),lista)\n",
    "  plt.xlim(-1,5)\n",
    "  plt.ylim(20,40)\n",
    "  plt.xlabel(\"Número de iterações\")\n",
    "  plt.ylabel(\"MSE\")\n",
    "  plt.show"
   ]
  },
  {
   "cell_type": "code",
   "execution_count": 277,
   "metadata": {},
   "outputs": [
    {
     "name": "stdout",
     "output_type": "stream",
     "text": [
      "modelo treinado.\n",
      "modelo treinado.\n",
      "modelo treinado.\n",
      "modelo treinado.\n",
      "modelo treinado.\n",
      "Media MSE:   30.808\n",
      "\n"
     ]
    },
    {
     "data": {
      "image/png": "[encoded data removed]",
      "text/plain": [
       "<Figure size 1440x576 with 1 Axes>"
      ]
     },
     "metadata": {
      "needs_background": "light"
     },
     "output_type": "display_data"
    }
   ],
   "source": [
    "funcao(x,0.15,200)"
   ]
  },
  {
   "cell_type": "code",
   "execution_count": 278,
   "metadata": {},
   "outputs": [
    {
     "name": "stdout",
     "output_type": "stream",
     "text": [
      "modelo treinado.\n",
      "modelo treinado.\n",
      "modelo treinado.\n",
      "modelo treinado.\n",
      "modelo treinado.\n",
      "Media MSE:   37.844\n",
      "\n"
     ]
    },
    {
     "data": {
      "image/png": "[encoded data removed]",
      "text/plain": [
       "<Figure size 1440x576 with 1 Axes>"
      ]
     },
     "metadata": {
      "needs_background": "light"
     },
     "output_type": "display_data"
    }
   ],
   "source": [
    "funcao(x,0.15,10)"
   ]
  },
  {
   "cell_type": "code",
   "execution_count": 279,
   "metadata": {},
   "outputs": [
    {
     "name": "stdout",
     "output_type": "stream",
     "text": [
      "modelo treinado.\n",
      "modelo treinado.\n",
      "modelo treinado.\n",
      "modelo treinado.\n",
      "modelo treinado.\n",
      "Media MSE:   31.061\n",
      "\n"
     ]
    },
    {
     "data": {
      "image/png": "[encoded data removed]",
      "text/plain": [
       "<Figure size 1440x576 with 1 Axes>"
      ]
     },
     "metadata": {
      "needs_background": "light"
     },
     "output_type": "display_data"
    }
   ],
   "source": [
    "funcao(x,0.15,100)"
   ]
  },
  {
   "cell_type": "code",
   "execution_count": 280,
   "metadata": {},
   "outputs": [
    {
     "name": "stdout",
     "output_type": "stream",
     "text": [
      "modelo treinado.\n",
      "modelo treinado.\n",
      "modelo treinado.\n",
      "modelo treinado.\n",
      "modelo treinado.\n",
      "Media MSE:   36.519\n",
      "\n"
     ]
    },
    {
     "data": {
      "image/png": "[encoded data removed]",
      "text/plain": [
       "<Figure size 1440x576 with 1 Axes>"
      ]
     },
     "metadata": {
      "needs_background": "light"
     },
     "output_type": "display_data"
    }
   ],
   "source": [
    "funcao(x,0.20,10)"
   ]
  },
  {
   "cell_type": "code",
   "execution_count": 281,
   "metadata": {},
   "outputs": [
    {
     "name": "stdout",
     "output_type": "stream",
     "text": [
      "modelo treinado.\n",
      "modelo treinado.\n",
      "modelo treinado.\n",
      "modelo treinado.\n",
      "modelo treinado.\n",
      "Media MSE:   30.885\n",
      "\n"
     ]
    },
    {
     "data": {
      "image/png": "[encoded data removed]",
      "text/plain": [
       "<Figure size 1440x576 with 1 Axes>"
      ]
     },
     "metadata": {
      "needs_background": "light"
     },
     "output_type": "display_data"
    }
   ],
   "source": [
    "funcao(x,0.20,100)"
   ]
  },
  {
   "cell_type": "code",
   "execution_count": 282,
   "metadata": {},
   "outputs": [
    {
     "name": "stdout",
     "output_type": "stream",
     "text": [
      "modelo treinado.\n",
      "modelo treinado.\n",
      "modelo treinado.\n",
      "modelo treinado.\n",
      "modelo treinado.\n",
      "Media MSE:   30.797\n",
      "\n"
     ]
    },
    {
     "data": {
      "image/png": "[encoded data removed]",
      "text/plain": [
       "<Figure size 1440x576 with 1 Axes>"
      ]
     },
     "metadata": {
      "needs_background": "light"
     },
     "output_type": "display_data"
    }
   ],
   "source": [
    "funcao(x,0.2,200)"
   ]
  },
  {
   "cell_type": "code",
   "execution_count": 283,
   "metadata": {},
   "outputs": [
    {
     "name": "stdout",
     "output_type": "stream",
     "text": [
      "modelo treinado.\n",
      "modelo treinado.\n",
      "modelo treinado.\n",
      "modelo treinado.\n",
      "modelo treinado.\n",
      "Media MSE:   30.949\n",
      "\n"
     ]
    },
    {
     "data": {
      "image/png": "[encoded data removed]",
      "text/plain": [
       "<Figure size 1440x576 with 1 Axes>"
      ]
     },
     "metadata": {
      "needs_background": "light"
     },
     "output_type": "display_data"
    }
   ],
   "source": [
    "funcao(x,0.3,100)"
   ]
  },
  {
   "cell_type": "code",
   "execution_count": 284,
   "metadata": {},
   "outputs": [
    {
     "name": "stdout",
     "output_type": "stream",
     "text": [
      "modelo treinado.\n",
      "modelo treinado.\n",
      "modelo treinado.\n",
      "modelo treinado.\n",
      "modelo treinado.\n",
      "Media MSE:   30.796\n",
      "\n"
     ]
    },
    {
     "data": {
      "image/png": "[encoded data removed]",
      "text/plain": [
       "<Figure size 1440x576 with 1 Axes>"
      ]
     },
     "metadata": {
      "needs_background": "light"
     },
     "output_type": "display_data"
    }
   ],
   "source": [
    "funcao(x,0.3,200)"
   ]
  },
  {
   "cell_type": "code",
   "execution_count": 285,
   "metadata": {},
   "outputs": [
    {
     "name": "stdout",
     "output_type": "stream",
     "text": [
      "modelo treinado.\n",
      "modelo treinado.\n",
      "modelo treinado.\n",
      "modelo treinado.\n",
      "modelo treinado.\n",
      "Media MSE:   30.891\n",
      "\n"
     ]
    },
    {
     "data": {
      "image/png": "[encoded data removed]",
      "text/plain": [
       "<Figure size 1440x576 with 1 Axes>"
      ]
     },
     "metadata": {
      "needs_background": "light"
     },
     "output_type": "display_data"
    }
   ],
   "source": [
    "funcao(x,0.1,200)"
   ]
  },
  {
   "cell_type": "code",
   "execution_count": 286,
   "metadata": {},
   "outputs": [
    {
     "name": "stdout",
     "output_type": "stream",
     "text": [
      "modelo treinado.\n",
      "modelo treinado.\n",
      "modelo treinado.\n",
      "modelo treinado.\n",
      "modelo treinado.\n",
      "Media MSE:   31.633\n",
      "\n"
     ]
    },
    {
     "data": {
      "image/png": "[encoded data removed]",
      "text/plain": [
       "<Figure size 1440x576 with 1 Axes>"
      ]
     },
     "metadata": {
      "needs_background": "light"
     },
     "output_type": "display_data"
    }
   ],
   "source": [
    "funcao(x,0.05,200)"
   ]
  },
  {
   "cell_type": "markdown",
   "metadata": {},
   "source": [
    "# Ao final dos teste consegui identificar que os melhores parametros foram uma taxa de aprendizado de 0.2 com 200 passos apresentado um MSE médio de 30.795\n",
    "\n",
    "\n",
    "```\n",
    "\n",
    "```\n",
    "\n",
    "\n",
    "---\n",
    "\n"
   ]
  },
  {
   "cell_type": "code",
   "execution_count": 287,
   "metadata": {},
   "outputs": [],
   "source": [
    "from  sklearn.linear_model import LinearRegression"
   ]
  },
  {
   "cell_type": "code",
   "execution_count": 288,
   "metadata": {},
   "outputs": [
    {
     "data": {
      "text/plain": [
       "LinearRegression()"
      ]
     },
     "execution_count": 288,
     "metadata": {},
     "output_type": "execute_result"
    }
   ],
   "source": [
    "lr=LinearRegression()\n",
    "lr.fit(x,y)"
   ]
  },
  {
   "cell_type": "code",
   "execution_count": 289,
   "metadata": {},
   "outputs": [
    {
     "data": {
      "text/plain": [
       "(-0.05568613230241404,\n",
       " array([ 0.        ,  6.37661369,  7.0025    ,  0.21819147, 10.42594526,\n",
       "         4.78517778]))"
      ]
     },
     "execution_count": 289,
     "metadata": {},
     "output_type": "execute_result"
    }
   ],
   "source": [
    "lr.intercept_, lr.coef_"
   ]
  },
  {
   "cell_type": "code",
   "execution_count": 290,
   "metadata": {},
   "outputs": [
    {
     "name": "stdout",
     "output_type": "stream",
     "text": [
      "30.80303834132047\n"
     ]
    }
   ],
   "source": [
    "ypred=lr.predict(x)\n",
    "mse=mean_squared_error(y,ypred)\n",
    "\n",
    "print(mse)"
   ]
  },
  {
   "cell_type": "code",
   "execution_count": 291,
   "metadata": {},
   "outputs": [
    {
     "data": {
      "text/plain": [
       "((10000, 6), (10000,))"
      ]
     },
     "execution_count": 291,
     "metadata": {},
     "output_type": "execute_result"
    }
   ],
   "source": [
    "x.shape, y.shape"
   ]
  },
  {
   "cell_type": "code",
   "execution_count": 292,
   "metadata": {},
   "outputs": [],
   "source": [
    "from sklearn.metrics import mean_squared_error\n",
    "\n",
    "def MSE(ytrue, ypred):\n",
    "    return mean_squared_error(y_true = ytrue, y_pred = ypred)"
   ]
  },
  {
   "cell_type": "code",
   "execution_count": 293,
   "metadata": {},
   "outputs": [
    {
     "name": "stdout",
     "output_type": "stream",
     "text": [
      "passo: 0\n",
      "theta: [-1.21938542  0.4101931  -1.62361535  0.20516491 -0.86595279  0.03207966\n",
      "  0.06535715]\n"
     ]
    },
    {
     "ename": "ValueError",
     "evalue": "y_true and y_pred have different number of output (1!=10000)",
     "output_type": "error",
     "traceback": [
      "\u001b[1;31m---------------------------------------------------------------------------\u001b[0m",
      "\u001b[1;31mValueError\u001b[0m                                Traceback (most recent call last)",
      "Input \u001b[1;32mIn [293]\u001b[0m, in \u001b[0;36m<cell line: 10>\u001b[1;34m()\u001b[0m\n\u001b[0;32m     22\u001b[0m \u001b[38;5;66;03m#calculando o MSE dentro do passo:\u001b[39;00m\n\u001b[0;32m     23\u001b[0m ypred_step \u001b[38;5;241m=\u001b[39m X_b\u001b[38;5;241m.\u001b[39mdot(theta)\n\u001b[1;32m---> 24\u001b[0m MSE_step \u001b[38;5;241m=\u001b[39m \u001b[43mMSE\u001b[49m\u001b[43m(\u001b[49m\u001b[43mytrue\u001b[49m\u001b[43m \u001b[49m\u001b[38;5;241;43m=\u001b[39;49m\u001b[43m \u001b[49m\u001b[43my\u001b[49m\u001b[43m,\u001b[49m\u001b[43m \u001b[49m\u001b[43mypred\u001b[49m\u001b[43m \u001b[49m\u001b[38;5;241;43m=\u001b[39;49m\u001b[43m \u001b[49m\u001b[43mypred_step\u001b[49m\u001b[43m)\u001b[49m\n\u001b[0;32m     26\u001b[0m \u001b[38;5;28mprint\u001b[39m(\u001b[38;5;124m\"\u001b[39m\u001b[38;5;124mMSE:\u001b[39m\u001b[38;5;124m\"\u001b[39m, MSE_step)\n\u001b[0;32m     27\u001b[0m \u001b[38;5;28mprint\u001b[39m(\u001b[38;5;124m'\u001b[39m\u001b[38;5;130;01m\\n\u001b[39;00m\u001b[38;5;124m-----------------------------------------------------------\u001b[39m\u001b[38;5;130;01m\\n\u001b[39;00m\u001b[38;5;124m'\u001b[39m)\n",
      "Input \u001b[1;32mIn [292]\u001b[0m, in \u001b[0;36mMSE\u001b[1;34m(ytrue, ypred)\u001b[0m\n\u001b[0;32m      3\u001b[0m \u001b[38;5;28;01mdef\u001b[39;00m \u001b[38;5;21mMSE\u001b[39m(ytrue, ypred):\n\u001b[1;32m----> 4\u001b[0m     \u001b[38;5;28;01mreturn\u001b[39;00m \u001b[43mmean_squared_error\u001b[49m\u001b[43m(\u001b[49m\u001b[43my_true\u001b[49m\u001b[43m \u001b[49m\u001b[38;5;241;43m=\u001b[39;49m\u001b[43m \u001b[49m\u001b[43mytrue\u001b[49m\u001b[43m,\u001b[49m\u001b[43m \u001b[49m\u001b[43my_pred\u001b[49m\u001b[43m \u001b[49m\u001b[38;5;241;43m=\u001b[39;49m\u001b[43m \u001b[49m\u001b[43mypred\u001b[49m\u001b[43m)\u001b[49m\n",
      "File \u001b[1;32m~\\anaconda3\\lib\\site-packages\\sklearn\\metrics\\_regression.py:438\u001b[0m, in \u001b[0;36mmean_squared_error\u001b[1;34m(y_true, y_pred, sample_weight, multioutput, squared)\u001b[0m\n\u001b[0;32m    378\u001b[0m \u001b[38;5;28;01mdef\u001b[39;00m \u001b[38;5;21mmean_squared_error\u001b[39m(\n\u001b[0;32m    379\u001b[0m     y_true, y_pred, \u001b[38;5;241m*\u001b[39m, sample_weight\u001b[38;5;241m=\u001b[39m\u001b[38;5;28;01mNone\u001b[39;00m, multioutput\u001b[38;5;241m=\u001b[39m\u001b[38;5;124m\"\u001b[39m\u001b[38;5;124muniform_average\u001b[39m\u001b[38;5;124m\"\u001b[39m, squared\u001b[38;5;241m=\u001b[39m\u001b[38;5;28;01mTrue\u001b[39;00m\n\u001b[0;32m    380\u001b[0m ):\n\u001b[0;32m    381\u001b[0m     \u001b[38;5;124;03m\"\"\"Mean squared error regression loss.\u001b[39;00m\n\u001b[0;32m    382\u001b[0m \n\u001b[0;32m    383\u001b[0m \u001b[38;5;124;03m    Read more in the :ref:`User Guide <mean_squared_error>`.\u001b[39;00m\n\u001b[1;32m   (...)\u001b[0m\n\u001b[0;32m    436\u001b[0m \u001b[38;5;124;03m    0.825...\u001b[39;00m\n\u001b[0;32m    437\u001b[0m \u001b[38;5;124;03m    \"\"\"\u001b[39;00m\n\u001b[1;32m--> 438\u001b[0m     y_type, y_true, y_pred, multioutput \u001b[38;5;241m=\u001b[39m \u001b[43m_check_reg_targets\u001b[49m\u001b[43m(\u001b[49m\n\u001b[0;32m    439\u001b[0m \u001b[43m        \u001b[49m\u001b[43my_true\u001b[49m\u001b[43m,\u001b[49m\u001b[43m \u001b[49m\u001b[43my_pred\u001b[49m\u001b[43m,\u001b[49m\u001b[43m \u001b[49m\u001b[43mmultioutput\u001b[49m\n\u001b[0;32m    440\u001b[0m \u001b[43m    \u001b[49m\u001b[43m)\u001b[49m\n\u001b[0;32m    441\u001b[0m     check_consistent_length(y_true, y_pred, sample_weight)\n\u001b[0;32m    442\u001b[0m     output_errors \u001b[38;5;241m=\u001b[39m np\u001b[38;5;241m.\u001b[39maverage((y_true \u001b[38;5;241m-\u001b[39m y_pred) \u001b[38;5;241m*\u001b[39m\u001b[38;5;241m*\u001b[39m \u001b[38;5;241m2\u001b[39m, axis\u001b[38;5;241m=\u001b[39m\u001b[38;5;241m0\u001b[39m, weights\u001b[38;5;241m=\u001b[39msample_weight)\n",
      "File \u001b[1;32m~\\anaconda3\\lib\\site-packages\\sklearn\\metrics\\_regression.py:105\u001b[0m, in \u001b[0;36m_check_reg_targets\u001b[1;34m(y_true, y_pred, multioutput, dtype)\u001b[0m\n\u001b[0;32m    102\u001b[0m     y_pred \u001b[38;5;241m=\u001b[39m y_pred\u001b[38;5;241m.\u001b[39mreshape((\u001b[38;5;241m-\u001b[39m\u001b[38;5;241m1\u001b[39m, \u001b[38;5;241m1\u001b[39m))\n\u001b[0;32m    104\u001b[0m \u001b[38;5;28;01mif\u001b[39;00m y_true\u001b[38;5;241m.\u001b[39mshape[\u001b[38;5;241m1\u001b[39m] \u001b[38;5;241m!=\u001b[39m y_pred\u001b[38;5;241m.\u001b[39mshape[\u001b[38;5;241m1\u001b[39m]:\n\u001b[1;32m--> 105\u001b[0m     \u001b[38;5;28;01mraise\u001b[39;00m \u001b[38;5;167;01mValueError\u001b[39;00m(\n\u001b[0;32m    106\u001b[0m         \u001b[38;5;124m\"\u001b[39m\u001b[38;5;124my_true and y_pred have different number of output (\u001b[39m\u001b[38;5;132;01m{0}\u001b[39;00m\u001b[38;5;124m!=\u001b[39m\u001b[38;5;132;01m{1}\u001b[39;00m\u001b[38;5;124m)\u001b[39m\u001b[38;5;124m\"\u001b[39m\u001b[38;5;241m.\u001b[39mformat(\n\u001b[0;32m    107\u001b[0m             y_true\u001b[38;5;241m.\u001b[39mshape[\u001b[38;5;241m1\u001b[39m], y_pred\u001b[38;5;241m.\u001b[39mshape[\u001b[38;5;241m1\u001b[39m]\n\u001b[0;32m    108\u001b[0m         )\n\u001b[0;32m    109\u001b[0m     )\n\u001b[0;32m    111\u001b[0m n_outputs \u001b[38;5;241m=\u001b[39m y_true\u001b[38;5;241m.\u001b[39mshape[\u001b[38;5;241m1\u001b[39m]\n\u001b[0;32m    112\u001b[0m allowed_multioutput_str \u001b[38;5;241m=\u001b[39m (\u001b[38;5;124m\"\u001b[39m\u001b[38;5;124mraw_values\u001b[39m\u001b[38;5;124m\"\u001b[39m, \u001b[38;5;124m\"\u001b[39m\u001b[38;5;124muniform_average\u001b[39m\u001b[38;5;124m\"\u001b[39m, \u001b[38;5;124m\"\u001b[39m\u001b[38;5;124mvariance_weighted\u001b[39m\u001b[38;5;124m\"\u001b[39m)\n",
      "\u001b[1;31mValueError\u001b[0m: y_true and y_pred have different number of output (1!=10000)"
     ]
    }
   ],
   "source": [
    "learning_rate = 0.075\n",
    "num_steps = 200\n",
    "\n",
    "m = x.shape[0] #qtd. linhas\n",
    "k = x.shape[1] #qtd. colunas\n",
    "\n",
    "theta = np.random.randn(k+1,1) # inicialização aleatórias dos parâmetros.\n",
    "X_b = np.c_[np.ones((m, 1)), x] #colocando x0 = 1 em todas as instâncias de X\n",
    "\n",
    "for step in range(num_steps):\n",
    "    \n",
    "    print('passo:', step)\n",
    "    print('theta:', theta.reshape(-1,))\n",
    "    \n",
    "    #calcula o gradiente\n",
    "    gradients = 2/m * X_b.T.dot(X_b.dot(theta) - y)\n",
    "    \n",
    "    #atualiza os valores de theta\n",
    "    theta = theta - learning_rate * gradients\n",
    "    \n",
    "    \n",
    "    #calculando o MSE dentro do passo:\n",
    "    ypred_step = X_b.dot(theta)\n",
    "    MSE_step = MSE(ytrue = y, ypred = ypred_step)\n",
    "  \n",
    "    print(\"MSE:\", MSE_step)\n",
    "    print('\\n-----------------------------------------------------------\\n') "
   ]
  },
  {
   "cell_type": "code",
   "execution_count": 294,
   "metadata": {},
   "outputs": [
    {
     "ename": "NameError",
     "evalue": "name 'regLinearEquacaoNormal' is not defined",
     "output_type": "error",
     "traceback": [
      "\u001b[1;31m---------------------------------------------------------------------------\u001b[0m",
      "\u001b[1;31mNameError\u001b[0m                                 Traceback (most recent call last)",
      "Input \u001b[1;32mIn [294]\u001b[0m, in \u001b[0;36m<cell line: 1>\u001b[1;34m()\u001b[0m\n\u001b[1;32m----> 1\u001b[0m \u001b[43mregLinearEquacaoNormal\u001b[49m(X, y)\n",
      "\u001b[1;31mNameError\u001b[0m: name 'regLinearEquacaoNormal' is not defined"
     ]
    }
   ],
   "source": [
    "regLinearEquacaoNormal(X, y)"
   ]
  },
  {
   "cell_type": "code",
   "execution_count": 295,
   "metadata": {},
   "outputs": [],
   "source": [
    "class regLinear():\n",
    "    \n",
    "    def __init__(self, learning_rate, num_steps):\n",
    "        self.learning_rate = learning_rate\n",
    "        self.num_steps = num_steps\n",
    "        \n",
    "    def fit(self, X, y):\n",
    "        y = y.reshape(-1,1)\n",
    "        m = X.shape[0] \n",
    "        k = X.shape[1] \n",
    "        theta = np.random.randn(k+1,1) \n",
    "        X_b = np.c_[np.ones((m, 1)), X] \n",
    "        for step in range(self.num_steps):\n",
    "            gradients = 2/m * X_b.T.dot(X_b.dot(theta) - y)\n",
    "            theta = theta - self.learning_rate * gradients\n",
    "        self.theta_final = theta\n",
    "        print(\"modelo treinado.\")\n",
    "        \n",
    "    def predict(self, X):\n",
    "        m = X.shape[0]\n",
    "        X_b = np.c_[np.ones((m, 1)), X]\n",
    "        preds = X_b.dot(self.theta_final)\n",
    "        return preds"
   ]
  },
  {
   "cell_type": "code",
   "execution_count": 296,
   "metadata": {},
   "outputs": [],
   "source": [
    "rg = regLinear(learning_rate = 0.075, num_steps = 200)"
   ]
  },
  {
   "cell_type": "code",
   "execution_count": 297,
   "metadata": {},
   "outputs": [
    {
     "name": "stdout",
     "output_type": "stream",
     "text": [
      "modelo treinado.\n"
     ]
    }
   ],
   "source": [
    "rg.fit(X, y)"
   ]
  },
  {
   "cell_type": "code",
   "execution_count": 298,
   "metadata": {},
   "outputs": [
    {
     "data": {
      "text/plain": [
       "array([[ 2.07617079],\n",
       "       [ 5.47783917],\n",
       "       [ 6.00003279],\n",
       "       [-0.14625853],\n",
       "       [ 9.16276669],\n",
       "       [ 4.18747044]])"
      ]
     },
     "execution_count": 298,
     "metadata": {},
     "output_type": "execute_result"
    }
   ],
   "source": [
    "rg.theta_final"
   ]
  },
  {
   "cell_type": "code",
   "execution_count": 299,
   "metadata": {},
   "outputs": [
    {
     "data": {
      "text/plain": [
       "array([[16.05216269],\n",
       "       [18.54485013],\n",
       "       [18.28190615],\n",
       "       ...,\n",
       "       [15.39827335],\n",
       "       [17.4702556 ],\n",
       "       [19.11676944]])"
      ]
     },
     "execution_count": 299,
     "metadata": {},
     "output_type": "execute_result"
    }
   ],
   "source": [
    "rg.predict(X)"
   ]
  },
  {
   "cell_type": "markdown",
   "metadata": {},
   "source": [
    "Comparando com o resultado da regressão linear do scikit-learn:"
   ]
  },
  {
   "cell_type": "code",
   "execution_count": 300,
   "metadata": {},
   "outputs": [
    {
     "name": "stdout",
     "output_type": "stream",
     "text": [
      "-0.05568613230242292 [ 6.37661369  7.0025      0.21819147 10.42594526  4.78517778]\n",
      "\n"
     ]
    },
    {
     "data": {
      "text/plain": [
       "array([16.29170271, 19.20364386, 18.8105078 , ..., 15.3053878 ,\n",
       "       17.95296077, 19.63525471])"
      ]
     },
     "execution_count": 300,
     "metadata": {},
     "output_type": "execute_result"
    }
   ],
   "source": [
    "lm = LinearRegression()\n",
    "lm.fit(X, y)\n",
    "print(lm.intercept_, lm.coef_)\n",
    "print()\n",
    "lm.predict(X)"
   ]
  },
  {
   "cell_type": "code",
   "execution_count": null,
   "metadata": {},
   "outputs": [],
   "source": []
  },
  {
   "cell_type": "code",
   "execution_count": null,
   "metadata": {},
   "outputs": [],
   "source": []
  },
  {
   "cell_type": "code",
   "execution_count": null,
   "metadata": {},
   "outputs": [],
   "source": []
  },
  {
   "cell_type": "markdown",
   "metadata": {},
   "source": [
    "__Parte 2 (Introdução):__\n",
    "\n",
    "Para cada variável explicativa $X_1, .., X_5$, crie outras variáveis usando o __quadrado__ de cada um delas. Desta forma, o conjunto final será de 10 variáveis, em que:\n",
    "\n",
    "$X_6 = (X_1)^{2}$, $X_7 = (X_2)^{2}$, $X_8 = (X_3)^{2}$, $X_9 = (X_4)^{2}$, $X_{10} = (X_5)^{2}$.\n",
    "\n",
    "Ao treinarmos uma regressão linear com essas 10 variáveis, a predição é da forma:\n",
    "\n",
    "$y_{pred} = \\theta_0 + \\theta_1 \\cdot X_1 + .. + \\theta_5 \\cdot X_5 + \\theta_6 \\cdot (X_1)^{2} + .. + \\theta_{10} \\cdot (X_5)^{2}$\n",
    "\n",
    "Como estamos usando o quadrado das variáveis explicativas, dizemos que temos um __modelo de regressão polinomial de grau 2__. Podemos ter variações deste modelo:\n",
    "\n",
    "-Podemos aumentar o grau: basta mudar a potência que elevamos as variáveis. Por exemplo, podemos incluir o __cubo__ das variáveis e termos um modelo polinomial de ordem 3.\n",
    "\n",
    "-Podemos ter __interações__ entre as variáveis: multiplicações entre as variáveis.\n",
    "\n",
    "Exemplo:\n",
    "\n",
    "$y_{pred} = \\theta_0 + \\theta_1 \\cdot X_1 + .. + \\theta_5 \\cdot X_5 + \\theta_6 \\cdot (X_1)^{2} + .. + \\theta_{10} \\cdot (X_5)^{2} + \\theta_{11} \\cdot (X_1)^{3} + \\theta_{12} \\cdot V1 + \\theta_{13} \\cdot V2$,\n",
    "\n",
    "onde\n",
    "\n",
    "$V_1 = X_1 \\cdot X_2$ e $V_2 = (X_2)^{2} \\cdot X_4$\n"
   ]
  },
  {
   "cell_type": "markdown",
   "metadata": {},
   "source": [
    "__Parte 2 (Exercício):__\n",
    "\n",
    "1- Estude o link:\n",
    "https://scikit-learn.org/stable/modules/generated/sklearn.preprocessing.PolynomialFeatures.html\n",
    "\n",
    "em que é discutido como criar modelos polinomiais com o scikit-learn de forma detalhada.\n",
    "\n",
    "2- Repita os passos da primeira parte, mas agora considerando polinômios de graus 2 ou mais.\n",
    "\n",
    "3- Inclua regularização Ridge e Lasso nas análises e teste os resultados para diferentes parâmetros $\\alpha$.\n",
    "\n",
    "<br>\n",
    "\n"
   ]
  },
  {
   "cell_type": "code",
   "execution_count": 301,
   "metadata": {},
   "outputs": [],
   "source": [
    "x1,y1=getData2()"
   ]
  },
  {
   "cell_type": "code",
   "execution_count": 302,
   "metadata": {},
   "outputs": [],
   "source": [
    "from sklearn.preprocessing import PolynomialFeatures"
   ]
  },
  {
   "cell_type": "code",
   "execution_count": 303,
   "metadata": {},
   "outputs": [
    {
     "name": "stdout",
     "output_type": "stream",
     "text": [
      "modelo treinado.\n",
      "modelo treinado.\n",
      "modelo treinado.\n",
      "modelo treinado.\n",
      "modelo treinado.\n",
      "Media MSE com learning  rate  =  0.07 \n",
      " 28.283\n",
      "\n",
      "modelo treinado.\n",
      "modelo treinado.\n",
      "modelo treinado.\n",
      "modelo treinado.\n",
      "modelo treinado.\n",
      "Media MSE com learning  rate  =  0.08 \n",
      " 28.092\n",
      "\n",
      "modelo treinado.\n",
      "modelo treinado.\n",
      "modelo treinado.\n",
      "modelo treinado.\n",
      "modelo treinado.\n",
      "Media MSE com learning  rate  =  0.09 \n",
      " 27.936\n",
      "\n",
      "modelo treinado.\n",
      "modelo treinado.\n",
      "modelo treinado.\n",
      "modelo treinado.\n",
      "modelo treinado.\n",
      "Media MSE com learning  rate  =  0.1 \n",
      " 27.744\n",
      "\n",
      "modelo treinado.\n",
      "modelo treinado.\n",
      "modelo treinado.\n",
      "modelo treinado.\n",
      "modelo treinado.\n",
      "Media MSE com learning  rate  =  0.12 \n",
      " 27.444\n",
      "\n",
      "modelo treinado.\n",
      "modelo treinado.\n",
      "modelo treinado.\n",
      "modelo treinado.\n",
      "modelo treinado.\n",
      "Media MSE com learning  rate  =  0.13 \n",
      " 27.445\n",
      "\n",
      "modelo treinado.\n",
      "modelo treinado.\n",
      "modelo treinado.\n",
      "modelo treinado.\n",
      "modelo treinado.\n",
      "Media MSE com learning  rate  =  0.14 \n",
      " 27.311\n",
      "\n",
      "modelo treinado.\n",
      "modelo treinado.\n",
      "modelo treinado.\n",
      "modelo treinado.\n",
      "modelo treinado.\n",
      "Media MSE com learning  rate  =  0.15 \n",
      " 1.3848629345709065e+53\n",
      "\n"
     ]
    }
   ],
   "source": [
    "lista=[0.07,0.08,0.09,0.1,0.12,0.13,0.14,0.15]\n",
    "for i in lista:\n",
    "  lista1=[]\n",
    "  for train_idx,test_idx in kf.split(x):\n",
    "    xtreino=x[train_idx]\n",
    "    xteste=x[test_idx]\n",
    "    ytreino=y[train_idx]\n",
    "    yteste=y[test_idx]\n",
    "\n",
    "    pol=PolynomialFeatures(degree=2,include_bias=False)\n",
    "    xpol=pol.fit_transform(xtreino)\n",
    "\n",
    "    lin_reg=regLinear(i,1000)\n",
    "    lin_reg.fit(xpol,ytreino)\n",
    "    lista1.append(mean_squared_error(ytreino,lin_reg.predict(xpol)))\n",
    "  print(\"Media MSE com learning  rate  = \",i ,\"\\n\" ,   round(np.mean(lista1),3))\n",
    "  print()"
   ]
  },
  {
   "cell_type": "markdown",
   "metadata": {},
   "source": [
    "### Com o teste acima determinamos que a melhor learning rate se trata de 0.14, a partir disso realizarei outro loop alterando o número de passos."
   ]
  },
  {
   "cell_type": "code",
   "execution_count": 304,
   "metadata": {},
   "outputs": [
    {
     "name": "stdout",
     "output_type": "stream",
     "text": [
      "modelo treinado.\n",
      "modelo treinado.\n",
      "modelo treinado.\n",
      "modelo treinado.\n",
      "modelo treinado.\n",
      "Media MSE com numeros de passos  =  250 \n",
      " 29.522\n",
      "\n",
      "modelo treinado.\n",
      "modelo treinado.\n",
      "modelo treinado.\n",
      "modelo treinado.\n",
      "modelo treinado.\n",
      "Media MSE com numeros de passos  =  500 \n",
      " 28.321\n",
      "\n",
      "modelo treinado.\n",
      "modelo treinado.\n",
      "modelo treinado.\n",
      "modelo treinado.\n",
      "modelo treinado.\n",
      "Media MSE com numeros de passos  =  1000 \n",
      " 27.281\n",
      "\n",
      "modelo treinado.\n",
      "modelo treinado.\n",
      "modelo treinado.\n",
      "modelo treinado.\n",
      "modelo treinado.\n",
      "Media MSE com numeros de passos  =  1500 \n",
      " 26.901\n",
      "\n",
      "modelo treinado.\n",
      "modelo treinado.\n",
      "modelo treinado.\n",
      "modelo treinado.\n",
      "modelo treinado.\n",
      "Media MSE com numeros de passos  =  2000 \n",
      " 26.744\n",
      "\n",
      "modelo treinado.\n",
      "modelo treinado.\n",
      "modelo treinado.\n",
      "modelo treinado.\n",
      "modelo treinado.\n",
      "Media MSE com numeros de passos  =  5000 \n",
      " 26.633\n",
      "\n"
     ]
    }
   ],
   "source": [
    "step=[250,500,1000,1500,2000,5000]\n",
    "for s in step:\n",
    "  lista1=[]\n",
    "  for train_idx,test_idx in kf.split(x):\n",
    "    xtreino=x[train_idx]\n",
    "    xteste=x[test_idx]\n",
    "    ytreino=y[train_idx]\n",
    "    yteste=y[test_idx]\n",
    "\n",
    "    pol=PolynomialFeatures(degree=2,include_bias=False)\n",
    "    xpol=pol.fit_transform(xtreino)\n",
    "\n",
    "    lin_reg=regLinear(0.14,s)\n",
    "    lin_reg.fit(xpol,ytreino)\n",
    "    lista1.append(mean_squared_error(ytreino,lin_reg.predict(xpol)))\n",
    "  print(\"Media MSE com numeros de passos  = \",s ,\"\\n\" ,   round(np.mean(lista1),3))\n",
    "  print()"
   ]
  },
  {
   "cell_type": "markdown",
   "metadata": {},
   "source": [
    "### Vimos que com  5000 passos encontramos um Mse bem baixo, porém, irei escolher 2000 passos como parâmetro,pois não houve diferença significativa com o valor encontrado em 5000 passos."
   ]
  },
  {
   "cell_type": "markdown",
   "metadata": {},
   "source": [
    "### Portanto os parâmetros selecionados para regressão polinomial de grau 2 sera de 0.14 a taxa de aprendizado e 2000 passos."
   ]
  },
  {
   "cell_type": "code",
   "execution_count": 305,
   "metadata": {},
   "outputs": [],
   "source": [
    "lr_pol=LinearRegression()"
   ]
  },
  {
   "cell_type": "code",
   "execution_count": 306,
   "metadata": {},
   "outputs": [],
   "source": [
    "xpol1=pol.fit_transform(x)"
   ]
  },
  {
   "cell_type": "code",
   "execution_count": 307,
   "metadata": {},
   "outputs": [
    {
     "data": {
      "text/plain": [
       "LinearRegression()"
      ]
     },
     "execution_count": 307,
     "metadata": {},
     "output_type": "execute_result"
    }
   ],
   "source": [
    "lr_pol.fit(xpol1,y)"
   ]
  },
  {
   "cell_type": "code",
   "execution_count": 308,
   "metadata": {},
   "outputs": [],
   "source": [
    "mse_pol=mean_squared_error(y,lr_pol.predict(xpol1))"
   ]
  },
  {
   "cell_type": "code",
   "execution_count": 309,
   "metadata": {},
   "outputs": [
    {
     "name": "stdout",
     "output_type": "stream",
     "text": [
      "26.657070929198188\n"
     ]
    }
   ],
   "source": [
    "print(mse_pol)"
   ]
  },
  {
   "cell_type": "markdown",
   "metadata": {},
   "source": [
    "### Considerando o Mse da regressão do sklearn, vemos que ficou bem próximo do valor selecionado anteriormente, agora iremos instanciar a regularização."
   ]
  },
  {
   "cell_type": "code",
   "execution_count": 310,
   "metadata": {},
   "outputs": [],
   "source": [
    "from sklearn.linear_model import Ridge,Lasso"
   ]
  },
  {
   "cell_type": "code",
   "execution_count": null,
   "metadata": {},
   "outputs": [],
   "source": []
  },
  {
   "cell_type": "code",
   "execution_count": 311,
   "metadata": {},
   "outputs": [
    {
     "name": "stdout",
     "output_type": "stream",
     "text": [
      "Media MSE com alpha   =  0.01 \n",
      " 26.632\n",
      "\n",
      "Media MSE com alpha   =  0.1 \n",
      " 26.632\n",
      "\n",
      "Media MSE com alpha   =  1 \n",
      " 26.638\n",
      "\n",
      "Media MSE com alpha   =  10 \n",
      " 26.957\n",
      "\n",
      "Media MSE com alpha   =  100 \n",
      " 29.423\n",
      "\n"
     ]
    }
   ],
   "source": [
    "## Regularização Ridge\n",
    "\n",
    "alpha=[0.01,0.1,1,10,100]\n",
    "for a in alpha:\n",
    "  lista1=[]\n",
    "  for train_idx,test_idx in kf.split(x):\n",
    "    xtreino=x[train_idx]\n",
    "    xteste=x[test_idx]\n",
    "    ytreino=y[train_idx]\n",
    "    yteste=y[test_idx]\n",
    "\n",
    "    pol=PolynomialFeatures(degree=2,include_bias=False)\n",
    "    xpol=pol.fit_transform(xtreino)\n",
    "\n",
    "    ridge=Ridge(alpha=a)\n",
    "    ridge.fit(xpol,ytreino)\n",
    "    lista1.append(mean_squared_error(ytreino,ridge.predict(xpol)))\n",
    "  print(\"Media MSE com alpha   = \",a ,\"\\n\" ,   round(np.mean(lista1),3))\n",
    "  print()"
   ]
  },
  {
   "cell_type": "code",
   "execution_count": 312,
   "metadata": {},
   "outputs": [
    {
     "name": "stdout",
     "output_type": "stream",
     "text": [
      "Media MSE com alpha   =  0.01 \n",
      " 26.878\n",
      "\n",
      "Media MSE com alpha   =  0.1 \n",
      " 31.17\n",
      "\n",
      "Media MSE com alpha   =  1 \n",
      " 49.186\n",
      "\n",
      "Media MSE com alpha   =  10 \n",
      " 49.186\n",
      "\n",
      "Media MSE com alpha   =  100 \n",
      " 49.186\n",
      "\n"
     ]
    }
   ],
   "source": [
    "## Regularização Lasso\n",
    "\n",
    "alpha=[0.01,0.1,1,10,100]\n",
    "for a in alpha:\n",
    "  lista1=[]\n",
    "  for train_idx,test_idx in kf.split(x):\n",
    "    xtreino=x[train_idx]\n",
    "    xteste=x[test_idx]\n",
    "    ytreino=y[train_idx]\n",
    "    yteste=y[test_idx]\n",
    "\n",
    "    pol=PolynomialFeatures(degree=2,include_bias=False)\n",
    "    xpol=pol.fit_transform(xtreino)\n",
    "\n",
    "    lasso=Lasso(alpha=a)\n",
    "    lasso.fit(xpol,ytreino)\n",
    "    lista1.append(mean_squared_error(ytreino,lasso.predict(xpol)))\n",
    "  print(\"Media MSE com alpha   = \",a ,\"\\n\" ,   round(np.mean(lista1),3))\n",
    "  print()"
   ]
  },
  {
   "cell_type": "markdown",
   "metadata": {},
   "source": [
    "## Com a regularização é posssível constatar a melhor eficiência da regularização Ridge, apresentando um erro menor com alpha = 0.01"
   ]
  },
  {
   "cell_type": "code",
   "execution_count": 313,
   "metadata": {},
   "outputs": [],
   "source": [
    "from sklearn.preprocessing import StandardScaler\n",
    "from sklearn.pipeline import Pipeline\n",
    "from sklearn.preprocessing import PolynomialFeatures"
   ]
  },
  {
   "cell_type": "code",
   "execution_count": 338,
   "metadata": {},
   "outputs": [],
   "source": [
    "def polyFit(X, y, grau): \n",
    "    \n",
    "    polybig_features = PolynomialFeatures(degree = grau, include_bias = False)\n",
    "    std_scaler = StandardScaler()\n",
    "    lin_reg = LinearRegression()\n",
    "    \n",
    "    #criando um pipeline: sequencia de execução de passos\n",
    "    polynomial_regression = Pipeline([\n",
    "            (\"poly_features\", polybig_features),\n",
    "            (\"std_scaler\", std_scaler),\n",
    "            (\"lin_reg\", lin_reg),\n",
    "        ])\n",
    "    \n",
    "    polynomial_regression.fit(X, y)\n",
    "    return polynomial_regression"
   ]
  },
  {
   "cell_type": "code",
   "execution_count": 342,
   "metadata": {},
   "outputs": [
    {
     "name": "stdout",
     "output_type": "stream",
     "text": [
      "grau:  1\n"
     ]
    },
    {
     "ename": "IndexError",
     "evalue": "too many indices for array: array is 1-dimensional, but 2 were indexed",
     "output_type": "error",
     "traceback": [
      "\u001b[1;31m---------------------------------------------------------------------------\u001b[0m",
      "\u001b[1;31mIndexError\u001b[0m                                Traceback (most recent call last)",
      "Input \u001b[1;32mIn [342]\u001b[0m, in \u001b[0;36m<cell line: 1>\u001b[1;34m()\u001b[0m\n\u001b[0;32m      9\u001b[0m plt\u001b[38;5;241m.\u001b[39mfigure(figsize\u001b[38;5;241m=\u001b[39m[\u001b[38;5;241m6\u001b[39m,\u001b[38;5;241m5\u001b[39m])\n\u001b[0;32m     10\u001b[0m plt\u001b[38;5;241m.\u001b[39mplot(X, ypoly, label\u001b[38;5;241m=\u001b[39m\u001b[38;5;28mstr\u001b[39m(grau), lw\u001b[38;5;241m=\u001b[39m\u001b[38;5;241m2\u001b[39m, c \u001b[38;5;241m=\u001b[39m \u001b[38;5;124m'\u001b[39m\u001b[38;5;124mred\u001b[39m\u001b[38;5;124m'\u001b[39m)\n\u001b[1;32m---> 11\u001b[0m plt\u001b[38;5;241m.\u001b[39mscatter(X, \u001b[43my\u001b[49m\u001b[43m[\u001b[49m\u001b[43m:\u001b[49m\u001b[38;5;241;43m10000\u001b[39;49m\u001b[43m,\u001b[49m\u001b[43m:\u001b[49m\u001b[38;5;241;43m6\u001b[39;49m\u001b[43m]\u001b[49m, c \u001b[38;5;241m=\u001b[39m \u001b[38;5;124m\"\u001b[39m\u001b[38;5;124mblue\u001b[39m\u001b[38;5;124m\"\u001b[39m)\n\u001b[0;32m     12\u001b[0m plt\u001b[38;5;241m.\u001b[39maxis([\u001b[38;5;241m-\u001b[39m\u001b[38;5;241m3\u001b[39m, \u001b[38;5;241m3\u001b[39m, \u001b[38;5;241m0\u001b[39m, \u001b[38;5;241m10\u001b[39m])\n\u001b[0;32m     13\u001b[0m plt\u001b[38;5;241m.\u001b[39mshow()\n",
      "\u001b[1;31mIndexError\u001b[0m: too many indices for array: array is 1-dimensional, but 2 were indexed"
     ]
    },
    {
     "data": {
      "image/png": "[encoded data removed]",
      "text/plain": [
       "<Figure size 432x360 with 1 Axes>"
      ]
     },
     "metadata": {
      "needs_background": "light"
     },
     "output_type": "display_data"
    }
   ],
   "source": [
    "for grau in [1,2,20,300]:  \n",
    "    \n",
    "    print(\"grau: \", grau)\n",
    "    \n",
    "    polyfit = polyFit(X, y, grau)\n",
    "    \n",
    "    ypoly = polyfit.predict(X)\n",
    "    \n",
    "    plt.figure(figsize=[6,5])\n",
    "    plt.plot(X, ypoly, label=str(grau), lw=2, c = 'red')\n",
    "    plt.scatter(X, y[:10000,:6], c = \"blue\")\n",
    "    plt.axis([-3, 3, 0, 10])\n",
    "    plt.show()\n",
    "    print(\"RMSE:\")\n",
    "    print(np.sqrt(np.mean(np.square(y - polyfit.predict(X)))))\n",
    "    print(\"------------------------------------------------\\n\\n\")"
   ]
  },
  {
   "cell_type": "code",
   "execution_count": 341,
   "metadata": {},
   "outputs": [
    {
     "data": {
      "text/plain": [
       "((10000, 6), (10000,))"
      ]
     },
     "execution_count": 341,
     "metadata": {},
     "output_type": "execute_result"
    }
   ],
   "source": [
    "x.shape, y.shape"
   ]
  },
  {
   "cell_type": "code",
   "execution_count": null,
   "metadata": {},
   "outputs": [],
   "source": []
  },
  {
   "cell_type": "code",
   "execution_count": null,
   "metadata": {},
   "outputs": [],
   "source": []
  },
  {
   "cell_type": "markdown",
   "metadata": {},
   "source": [
    "### Exercício: Regressão Logística:\n",
    "\n",
    "__Parte 1:__\n",
    "\n",
    "Crie uma classe regLogistica para treinar o modelo de regressão logística. Essa classe deve ser usada para problemas de classificação binária, cuja variável target assume os valores: 0 (classe negativa) e 1 (classe positiva).\n",
    "\n",
    "O método construtor dessa classe deve possuir 3 parâmetros: learning_rate, num_steps e limiar.\n",
    "\n",
    "Os outros médotos devem ser:\n",
    "\n",
    "    - médoto fit: para treinar o modelo - usando gradient descent\n",
    "    \n",
    "    - médoto predict_proba: para retornar a probabilidade da classe 1\n",
    "    \n",
    "    - médoto predict: retornar a classe predita: 0 ou 1 - dependente do limiar\n",
    "    "
   ]
  },
  {
   "cell_type": "markdown",
   "metadata": {},
   "source": [
    "__Parte 2:__\n",
    "\n",
    "Usando a função getData2(), carregue o dataset disponibilizado.\n",
    "\n",
    "Use a regLogistica, classe criada na parte 1 do exercício, para treinar modelos nestes dados. Use validação cruzada para seleção dos parâmetros. Considere diferentes métricas de classificação e justifique as escolhas."
   ]
  },
  {
   "cell_type": "code",
   "execution_count": null,
   "metadata": {},
   "outputs": [],
   "source": [
    "def getData2():\n",
    "    X, y = make_classification(n_classes=2, n_features=5, n_samples=10000, random_state = 0)\n",
    "    return X, y"
   ]
  },
  {
   "cell_type": "code",
   "execution_count": null,
   "metadata": {},
   "outputs": [],
   "source": [
    "def logLossCost(ytrue, ypred_probs):\n",
    "    return (ytrue * np.log(ypred_probs) + (1 - ytrue) * np.log(1 - ypred_probs)).mean() * -1"
   ]
  },
  {
   "cell_type": "code",
   "execution_count": null,
   "metadata": {},
   "outputs": [],
   "source": [
    "def sigmoid(t):\n",
    "    return 1 / (1 + np.exp(-t))"
   ]
  },
  {
   "cell_type": "code",
   "execution_count": null,
   "metadata": {},
   "outputs": [],
   "source": [
    "class regLog():\n",
    "\n",
    "    \n",
    "    def __init__(self, learning_rate, num_steps,limiar):\n",
    "        self.learning_rate = learning_rate\n",
    "        self.num_steps = num_steps\n",
    "        self.limiar=limiar\n",
    "        \n",
    "    def fit(self, X, y):\n",
    "      y=y.reshape(-1,1)\n",
    "      m=X.shape[0]\n",
    "      k=X.shape[1]\n",
    "      X_b=np.c_[np.ones((m,1)),X]\n",
    "      theta=np.random.randn(k+1,1)\n",
    "      for step in range(self.num_steps):\n",
    "        yscore=sigmoid(X_b.dot(theta))\n",
    "        gradient=X_b.T.dot(yscore-y)\n",
    "        theta=theta-self.learning_rate*gradient\n",
    "      self.theta_final=theta  \n",
    "\n",
    "\n",
    "    \n",
    "     \n",
    "\n",
    "\n",
    "        \n",
    "    def predict_proba(self, X):\n",
    "      m=X.shape[0]\n",
    "      x_b=np.c_[np.ones((m,1)),X] \n",
    "\n",
    "      probs = sigmoid(x_b.dot(self.theta_final))\n",
    "      \n",
    "      return probs.reshape(-1,)\n",
    "\n",
    "    def predict(self,X):\n",
    "      m=X.shape[0]\n",
    "      x_b=np.c_[np.ones((m,1)),X] \n",
    "\n",
    "      probs = sigmoid(x_b.dot(self.theta_final))\n",
    "      ypred= np.where(probs>self.limiar,1,0)\n",
    "      return ypred\n"
   ]
  },
  {
   "cell_type": "code",
   "execution_count": null,
   "metadata": {},
   "outputs": [],
   "source": [
    "x1,y1=getData2()"
   ]
  },
  {
   "cell_type": "code",
   "execution_count": null,
   "metadata": {},
   "outputs": [],
   "source": [
    "rl=regLog(0.01,1000,0.5)"
   ]
  },
  {
   "cell_type": "code",
   "execution_count": null,
   "metadata": {},
   "outputs": [],
   "source": [
    "rl.fit(x1,y1)"
   ]
  },
  {
   "cell_type": "code",
   "execution_count": null,
   "metadata": {},
   "outputs": [],
   "source": [
    "rl.predict_proba(x1)"
   ]
  },
  {
   "cell_type": "code",
   "execution_count": null,
   "metadata": {},
   "outputs": [],
   "source": [
    "ypred=rl.predict(x1)"
   ]
  },
  {
   "cell_type": "code",
   "execution_count": null,
   "metadata": {},
   "outputs": [],
   "source": [
    "from  sklearn.metrics import confusion_matrix"
   ]
  },
  {
   "cell_type": "code",
   "execution_count": null,
   "metadata": {},
   "outputs": [],
   "source": [
    "ypred=np.where(rl.predict_proba(x1)>0.5,1,0)\n",
    "cf=confusion_matrix(y1,ypred)"
   ]
  },
  {
   "cell_type": "code",
   "execution_count": null,
   "metadata": {},
   "outputs": [],
   "source": [
    "print(cf)"
   ]
  },
  {
   "cell_type": "code",
   "execution_count": null,
   "metadata": {},
   "outputs": [],
   "source": [
    "from sklearn.linear_model import LogisticRegression"
   ]
  },
  {
   "cell_type": "code",
   "execution_count": null,
   "metadata": {},
   "outputs": [],
   "source": [
    "logi=LogisticRegression()"
   ]
  },
  {
   "cell_type": "code",
   "execution_count": null,
   "metadata": {},
   "outputs": [],
   "source": [
    "logi.fit(x1,y1)"
   ]
  },
  {
   "cell_type": "code",
   "execution_count": null,
   "metadata": {},
   "outputs": [],
   "source": [
    "y12=logi.predict(x1)"
   ]
  },
  {
   "cell_type": "code",
   "execution_count": null,
   "metadata": {},
   "outputs": [],
   "source": [
    "cf1=confusion_matrix(y1,y12)"
   ]
  },
  {
   "cell_type": "code",
   "execution_count": null,
   "metadata": {},
   "outputs": [],
   "source": [
    "print(cf1)"
   ]
  },
  {
   "cell_type": "markdown",
   "metadata": {},
   "source": [
    "## Com a análise acima pude verificar a proxi, idade entre os valores da confusion matrix do modelo criado e do modelo de regressão do sk learn, o que mostra que o modelo trabalhou bem"
   ]
  },
  {
   "cell_type": "code",
   "execution_count": null,
   "metadata": {},
   "outputs": [],
   "source": [
    "def func(x,y,v1,v2):\n",
    "  lng_rate=[0.001,0.01,0.1,1]\n",
    "  for l in lng_rate:\n",
    "    reglog=regLog(l,v1,v2)\n",
    "    reglog.fit(x,y)\n",
    "    ypred=reglog.predict(x)\n",
    "    cf=confusion_matrix(y,ypred)\n",
    "    print(\" Matriz de confusão para uma taxa de aprendizado de :\",l )\n",
    "  \n",
    "    print(cf)\n",
    "    print()"
   ]
  },
  {
   "cell_type": "markdown",
   "metadata": {},
   "source": [
    "## testando os  dados variando a learnig rate"
   ]
  },
  {
   "cell_type": "code",
   "execution_count": null,
   "metadata": {},
   "outputs": [],
   "source": [
    "func(x1,y1,1000,0.5)"
   ]
  },
  {
   "cell_type": "markdown",
   "metadata": {},
   "source": [
    "## Com a análise acima pude verificar qua a taxa de aprendizado de 0.1 se comportou melhor nos dados, por isso utlizarei ela na variação do numero de passos abaixo"
   ]
  },
  {
   "cell_type": "code",
   "execution_count": null,
   "metadata": {},
   "outputs": [],
   "source": [
    "def func1(x,y,v1,v2):\n",
    "  num_steps=[100,500,1000,2000]\n",
    "  for l in num_steps:\n",
    "    reglog=regLog(v1,l,v2)\n",
    "    reglog.fit(x,y)\n",
    "    ypred=reglog.predict(x)\n",
    "    cf=confusion_matrix(y,ypred)\n",
    "    print(\" Matriz de confusão para um número de passos de  :\",l )\n",
    "  \n",
    "    print(cf)\n",
    "    print()"
   ]
  },
  {
   "cell_type": "code",
   "execution_count": null,
   "metadata": {},
   "outputs": [],
   "source": [
    "func1(x1,y1,0.1,0.5)"
   ]
  },
  {
   "cell_type": "markdown",
   "metadata": {},
   "source": [
    "## Após os testes pude verificar que com a taxa de 0.1 e número de passos = 1000 , apresentaram os melhores resultados."
   ]
  },
  {
   "cell_type": "code",
   "execution_count": null,
   "metadata": {},
   "outputs": [],
   "source": []
  },
  {
   "cell_type": "code",
   "execution_count": null,
   "metadata": {},
   "outputs": [],
   "source": []
  },
  {
   "cell_type": "code",
   "execution_count": null,
   "metadata": {},
   "outputs": [],
   "source": []
  }
 ],
 "metadata": {
  "kernelspec": {
   "display_name": "Python 3 (ipykernel)",
   "language": "python",
   "name": "python3"
  },
  "language_info": {
   "codemirror_mode": {
    "name": "ipython",
    "version": 3
   },
   "file_extension": ".py",
   "mimetype": "text/x-python",
   "name": "python",
   "nbconvert_exporter": "python",
   "pygments_lexer": "ipython3",
   "version": "3.8.12"
  }
 },
 "nbformat": 4,
 "nbformat_minor": 2
}
